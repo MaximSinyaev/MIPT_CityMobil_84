{
  "nbformat": 4,
  "nbformat_minor": 0,
  "metadata": {
    "kernelspec": {
      "language": "python",
      "display_name": "Python 3",
      "name": "python3"
    },
    "language_info": {
      "pygments_lexer": "ipython3",
      "nbconvert_exporter": "python",
      "version": "3.6.4",
      "file_extension": ".py",
      "codemirror_mode": {
        "name": "ipython",
        "version": 3
      },
      "name": "python",
      "mimetype": "text/x-python"
    },
    "colab": {
      "name": "kernel4afba66498(1).ipynb",
      "provenance": [],
      "collapsed_sections": []
    }
  },
  "cells": [
    {
      "cell_type": "code",
      "metadata": {
        "_uuid": "8f2839f25d086af736a60e9eeb907d3b93b6e0e5",
        "_cell_guid": "b1076dfc-b9ad-4769-8c92-a6c4dae69d19",
        "trusted": true,
        "id": "3HzsobS4-Lf9",
        "colab_type": "code",
        "colab": {}
      },
      "source": [
        "# This Python 3 environment comes with many helpful analytics libraries installed\n",
        "# It is defined by the kaggle/python docker image: https://github.com/kaggle/docker-python\n",
        "# For example, here's several helpful packages to load in \n",
        "\n",
        "import numpy as np # linear algebra\n",
        "import pandas as pd # data processing, CSV file I/O (e.g. pd.read_csv)\n",
        "import seaborn as sns\n",
        "import matplotlib.pyplot as plt\n",
        "try:\n",
        "    import polyline\n",
        "except ModuleNotFoundError:\n",
        "    !pip install polyline\n",
        "    import polyline\n",
        "\n",
        "# Input data files are available in the \"../input/\" directory.\n",
        "# For example, running this (by clicking run or pressing Shift+Enter) will list all files under the input directory\n",
        "\n",
        "import os\n",
        "# for dirname, _, filenames in os.walk('.'):\n",
        "#     for filename in filenames:\n",
        "#         print(os.path.join(dirname, filename))\n",
        "\n",
        "# Any results you write to the current directory are saved as output."
      ],
      "execution_count": 0,
      "outputs": []
    },
    {
      "cell_type": "code",
      "metadata": {
        "id": "E_EB45yc-ZSE",
        "colab_type": "code",
        "outputId": "aa1d58c3-b07c-4ec7-bcef-f4ae6c57b2d2",
        "colab": {
          "base_uri": "https://localhost:8080/",
          "height": 54
        }
      },
      "source": [
        "from google.colab import drive\n",
        "drive.mount('/content/drive')"
      ],
      "execution_count": 122,
      "outputs": [
        {
          "output_type": "stream",
          "text": [
            "Drive already mounted at /content/drive; to attempt to forcibly remount, call drive.mount(\"/content/drive\", force_remount=True).\n"
          ],
          "name": "stdout"
        }
      ]
    },
    {
      "cell_type": "code",
      "metadata": {
        "id": "3vtXZ86w-i-S",
        "colab_type": "code",
        "colab": {}
      },
      "source": [
        "path = \"drive/My Drive/hack/CityMobil/\""
      ],
      "execution_count": 0,
      "outputs": []
    },
    {
      "cell_type": "code",
      "metadata": {
        "id": "njfKKaT-1VY5",
        "colab_type": "code",
        "colab": {}
      },
      "source": [
        "# old_data_path = path + ' old_data/'\n",
        "# path = old_data_path"
      ],
      "execution_count": 0,
      "outputs": []
    },
    {
      "cell_type": "code",
      "metadata": {
        "id": "2ottx80D-iqL",
        "colab_type": "code",
        "outputId": "970be272-71ed-4860-de72-5627fba491c1",
        "colab": {
          "base_uri": "https://localhost:8080/",
          "height": 52
        }
      },
      "source": [
        "!ls ./drive/My\\ Drive/hack/CityMobil/\\ old_data"
      ],
      "execution_count": 125,
      "outputs": [
        {
          "output_type": "stream",
          "text": [
            "test_additional.csv  test.csv\t      train.csv       valid_clean.csv\n",
            "test_clean.csv\t     train_clean.csv  validation.csv\n"
          ],
          "name": "stdout"
        }
      ]
    },
    {
      "cell_type": "markdown",
      "metadata": {
        "_uuid": "d629ff2d2480ee46fbb7e2d37f6b5fab8052498a",
        "collapsed": true,
        "_cell_guid": "79c7e3d0-c299-4dcb-8224-4455121ee9b0",
        "trusted": false,
        "id": "_vawJCzf-LhC",
        "colab_type": "text"
      },
      "source": [
        "## Reading data"
      ]
    },
    {
      "cell_type": "code",
      "metadata": {
        "trusted": true,
        "id": "N4bBs4Dq-LhJ",
        "colab_type": "code",
        "colab": {}
      },
      "source": [
        "train = pd.read_csv(path + 'train.csv', index_col=0)"
      ],
      "execution_count": 0,
      "outputs": []
    },
    {
      "cell_type": "code",
      "metadata": {
        "trusted": true,
        "id": "LmzNbqmk-Lh9",
        "colab_type": "code",
        "colab": {}
      },
      "source": [
        "valid = pd.read_csv(path + 'validation.csv', index_col=0)"
      ],
      "execution_count": 0,
      "outputs": []
    },
    {
      "cell_type": "code",
      "metadata": {
        "trusted": true,
        "id": "NREqk4RJ-Lio",
        "colab_type": "code",
        "colab": {}
      },
      "source": [
        "test = pd.read_csv(path + 'test_additional.csv', index_col=0)"
      ],
      "execution_count": 0,
      "outputs": []
    },
    {
      "cell_type": "code",
      "metadata": {
        "trusted": true,
        "id": "rvjvn-iD-LjL",
        "colab_type": "code",
        "outputId": "30c8e573-d9e5-4b34-ff60-b80e2e66b470",
        "colab": {
          "base_uri": "https://localhost:8080/",
          "height": 538
        }
      },
      "source": [
        "train.info()"
      ],
      "execution_count": 129,
      "outputs": [
        {
          "output_type": "stream",
          "text": [
            "<class 'pandas.core.frame.DataFrame'>\n",
            "Int64Index: 837128 entries, 0 to 831223\n",
            "Data columns (total 23 columns):\n",
            " #   Column              Non-Null Count   Dtype  \n",
            "---  ------              --------------   -----  \n",
            " 0   main_id_locality    837128 non-null  int64  \n",
            " 1   ETA                 837128 non-null  float64\n",
            " 2   RTA                 837128 non-null  float64\n",
            " 3   OrderedDate         837128 non-null  object \n",
            " 4   latitude            837128 non-null  float64\n",
            " 5   del_latitude        837128 non-null  float64\n",
            " 6   longitude           837128 non-null  float64\n",
            " 7   del_longitude       837128 non-null  float64\n",
            " 8   EDA                 837128 non-null  float64\n",
            " 9   RDA                 837128 non-null  float64\n",
            " 10  ReadyForCollection  837128 non-null  object \n",
            " 11  ClientCollected     837128 non-null  object \n",
            " 12  GoodArrived         837128 non-null  object \n",
            " 13  ready_latitude      834220 non-null  float64\n",
            " 14  ready_longitude     834220 non-null  float64\n",
            " 15  onway_latitude      834220 non-null  float64\n",
            " 16  onway_longitude     834220 non-null  float64\n",
            " 17  arrived_latitude    834220 non-null  float64\n",
            " 18  arrived_longitude   834220 non-null  float64\n",
            " 19  center_latitude     837128 non-null  float64\n",
            " 20  center_longitude    837128 non-null  float64\n",
            " 21  route               821253 non-null  object \n",
            " 22  track               786720 non-null  object \n",
            "dtypes: float64(16), int64(1), object(6)\n",
            "memory usage: 153.3+ MB\n"
          ],
          "name": "stdout"
        }
      ]
    },
    {
      "cell_type": "code",
      "metadata": {
        "id": "0_0rkGBxK86j",
        "colab_type": "code",
        "colab": {
          "base_uri": "https://localhost:8080/",
          "height": 121
        },
        "outputId": "d67a3025-c800-4fed-9686-b4fd98f7778f"
      },
      "source": [
        "test.index"
      ],
      "execution_count": 130,
      "outputs": [
        {
          "output_type": "execute_result",
          "data": {
            "text/plain": [
              "Int64Index([    0,     1,     2,     3,     4,     5,     6,     7,     8,\n",
              "                9,\n",
              "            ...\n",
              "            89928, 89929, 89930, 89931, 89932, 89933, 89934, 89935, 89936,\n",
              "            89937],\n",
              "           dtype='int64', name='Id', length=89938)"
            ]
          },
          "metadata": {
            "tags": []
          },
          "execution_count": 130
        }
      ]
    },
    {
      "cell_type": "markdown",
      "metadata": {
        "id": "PxDdAWnk-Ljy",
        "colab_type": "text"
      },
      "source": [
        "### Checking data"
      ]
    },
    {
      "cell_type": "code",
      "metadata": {
        "trusted": true,
        "id": "QDes2m6n-Lj7",
        "colab_type": "code",
        "colab": {}
      },
      "source": [
        "def search_na(df):\n",
        "    na_cols = list()\n",
        "    for col in df:\n",
        "        nas = df[col].isna().sum()\n",
        "        if nas:\n",
        "            na_cols.append(col)\n",
        "            print(f\"In {col} - {nas} NaNs\")\n",
        "    return na_cols"
      ],
      "execution_count": 0,
      "outputs": []
    },
    {
      "cell_type": "code",
      "metadata": {
        "trusted": true,
        "id": "5FFJd0SF-Lkh",
        "colab_type": "code",
        "colab": {}
      },
      "source": [
        "# First let's drop for first time experimental columns with NaNs and RDA column\n",
        "def df_transform(df, na_cols):\n",
        "    time_feat = ['OrderedDate', 'ReadyForCollection', 'ClientCollected', 'GoodArrived']\n",
        "    for col in df:\n",
        "        if col in time_feat:\n",
        "            df[col] = pd.to_datetime(df[col])\n",
        "    drop_cols = ['RDA', 'track', 'GoodArrived', 'ready_latitude',\n",
        "                 'ready_longitude', 'onway_latitude', 'onway_longitude',\n",
        "                 'arrived_latitude', 'arrived_longitude']\n",
        "    for col in drop_cols:\n",
        "      if col in df:\n",
        "        df = df.drop(columns=col)\n",
        "    # del df\n",
        "    return df"
      ],
      "execution_count": 0,
      "outputs": []
    },
    {
      "cell_type": "code",
      "metadata": {
        "trusted": true,
        "id": "UH-k3OZU-LlD",
        "colab_type": "code",
        "outputId": "53c01aa3-bb0a-459b-fa9d-6abd31c0998d",
        "colab": {
          "base_uri": "https://localhost:8080/",
          "height": 399
        }
      },
      "source": [
        "na_cols = list(set(search_na(train) + search_na(valid) + search_na(test)))\n",
        "train = df_transform(train, na_cols)\n",
        "valid = df_transform(valid, na_cols)\n",
        "test = df_transform(test, na_cols)"
      ],
      "execution_count": 133,
      "outputs": [
        {
          "output_type": "stream",
          "text": [
            "In ready_latitude - 2908 NaNs\n",
            "In ready_longitude - 2908 NaNs\n",
            "In onway_latitude - 2908 NaNs\n",
            "In onway_longitude - 2908 NaNs\n",
            "In arrived_latitude - 2908 NaNs\n",
            "In arrived_longitude - 2908 NaNs\n",
            "In route - 15875 NaNs\n",
            "In track - 50408 NaNs\n",
            "In ready_latitude - 307 NaNs\n",
            "In ready_longitude - 307 NaNs\n",
            "In onway_latitude - 307 NaNs\n",
            "In onway_longitude - 307 NaNs\n",
            "In arrived_latitude - 307 NaNs\n",
            "In arrived_longitude - 307 NaNs\n",
            "In route - 706 NaNs\n",
            "In ready_latitude - 287 NaNs\n",
            "In ready_longitude - 287 NaNs\n",
            "In onway_latitude - 287 NaNs\n",
            "In onway_longitude - 287 NaNs\n",
            "In arrived_latitude - 287 NaNs\n",
            "In arrived_longitude - 287 NaNs\n",
            "In route - 25 NaNs\n"
          ],
          "name": "stdout"
        }
      ]
    },
    {
      "cell_type": "code",
      "metadata": {
        "trusted": true,
        "id": "t2OJX_i7-Llg",
        "colab_type": "code",
        "outputId": "c187294c-bd21-4f0b-df38-8b38b40803eb",
        "colab": {
          "base_uri": "https://localhost:8080/",
          "height": 344
        }
      },
      "source": [
        "train.head()"
      ],
      "execution_count": 134,
      "outputs": [
        {
          "output_type": "execute_result",
          "data": {
            "text/html": [
              "<div>\n",
              "<style scoped>\n",
              "    .dataframe tbody tr th:only-of-type {\n",
              "        vertical-align: middle;\n",
              "    }\n",
              "\n",
              "    .dataframe tbody tr th {\n",
              "        vertical-align: top;\n",
              "    }\n",
              "\n",
              "    .dataframe thead th {\n",
              "        text-align: right;\n",
              "    }\n",
              "</style>\n",
              "<table border=\"1\" class=\"dataframe\">\n",
              "  <thead>\n",
              "    <tr style=\"text-align: right;\">\n",
              "      <th></th>\n",
              "      <th>main_id_locality</th>\n",
              "      <th>ETA</th>\n",
              "      <th>RTA</th>\n",
              "      <th>OrderedDate</th>\n",
              "      <th>latitude</th>\n",
              "      <th>del_latitude</th>\n",
              "      <th>longitude</th>\n",
              "      <th>del_longitude</th>\n",
              "      <th>EDA</th>\n",
              "      <th>ReadyForCollection</th>\n",
              "      <th>ClientCollected</th>\n",
              "      <th>center_latitude</th>\n",
              "      <th>center_longitude</th>\n",
              "      <th>route</th>\n",
              "    </tr>\n",
              "    <tr>\n",
              "      <th>Id</th>\n",
              "      <th></th>\n",
              "      <th></th>\n",
              "      <th></th>\n",
              "      <th></th>\n",
              "      <th></th>\n",
              "      <th></th>\n",
              "      <th></th>\n",
              "      <th></th>\n",
              "      <th></th>\n",
              "      <th></th>\n",
              "      <th></th>\n",
              "      <th></th>\n",
              "      <th></th>\n",
              "      <th></th>\n",
              "    </tr>\n",
              "  </thead>\n",
              "  <tbody>\n",
              "    <tr>\n",
              "      <th>0</th>\n",
              "      <td>1078</td>\n",
              "      <td>226.0</td>\n",
              "      <td>188.0</td>\n",
              "      <td>2020-02-12 19:12:06</td>\n",
              "      <td>55.826019</td>\n",
              "      <td>55.825581</td>\n",
              "      <td>49.134529</td>\n",
              "      <td>49.126949</td>\n",
              "      <td>1.0</td>\n",
              "      <td>2020-02-12 19:14:33</td>\n",
              "      <td>2020-02-12 19:15:06</td>\n",
              "      <td>55.794388</td>\n",
              "      <td>49.111531</td>\n",
              "      <td>gnvsIaq{jHChA??uC???OPG^F^NRzKBd@AN[r@???`@`@`...</td>\n",
              "    </tr>\n",
              "    <tr>\n",
              "      <th>1</th>\n",
              "      <td>1078</td>\n",
              "      <td>718.0</td>\n",
              "      <td>725.0</td>\n",
              "      <td>2020-02-12 19:12:22</td>\n",
              "      <td>55.795502</td>\n",
              "      <td>55.820911</td>\n",
              "      <td>49.131470</td>\n",
              "      <td>49.115360</td>\n",
              "      <td>5.0</td>\n",
              "      <td>2020-02-12 19:19:03</td>\n",
              "      <td>2020-02-12 19:19:42</td>\n",
              "      <td>55.794388</td>\n",
              "      <td>49.111531</td>\n",
              "      <td>sqpsI}~zjHyAr]e@lMk@fLaBlb@i@rLKhBCdAUxEGlCg@f...</td>\n",
              "    </tr>\n",
              "    <tr>\n",
              "      <th>2</th>\n",
              "      <td>1078</td>\n",
              "      <td>612.0</td>\n",
              "      <td>764.0</td>\n",
              "      <td>2020-02-12 19:12:44</td>\n",
              "      <td>55.791050</td>\n",
              "      <td>55.819962</td>\n",
              "      <td>49.226070</td>\n",
              "      <td>49.176628</td>\n",
              "      <td>5.0</td>\n",
              "      <td>2020-02-12 19:15:21</td>\n",
              "      <td>2020-02-12 19:15:25</td>\n",
              "      <td>55.794388</td>\n",
              "      <td>49.111531</td>\n",
              "      <td>auosI}mmkH?LHd@KhC??o@w@[g@m@iAUk@??{G|OiB`Ek@...</td>\n",
              "    </tr>\n",
              "    <tr>\n",
              "      <th>3</th>\n",
              "      <td>1078</td>\n",
              "      <td>1560.0</td>\n",
              "      <td>1412.0</td>\n",
              "      <td>2020-02-12 19:12:44</td>\n",
              "      <td>55.753899</td>\n",
              "      <td>55.824680</td>\n",
              "      <td>49.188519</td>\n",
              "      <td>49.093700</td>\n",
              "      <td>13.0</td>\n",
              "      <td>2020-02-12 19:19:00</td>\n",
              "      <td>2020-02-12 19:19:09</td>\n",
              "      <td>55.794388</td>\n",
              "      <td>49.111531</td>\n",
              "      <td>{lhsIiffkHmKN_C?mIPwMJ??Si@gA{B??Wq@MRCJTp@hAd...</td>\n",
              "    </tr>\n",
              "    <tr>\n",
              "      <th>4</th>\n",
              "      <td>1078</td>\n",
              "      <td>1528.0</td>\n",
              "      <td>893.0</td>\n",
              "      <td>2020-02-12 19:12:45</td>\n",
              "      <td>55.822361</td>\n",
              "      <td>55.786758</td>\n",
              "      <td>49.069092</td>\n",
              "      <td>49.143501</td>\n",
              "      <td>9.0</td>\n",
              "      <td>2020-02-12 19:16:32</td>\n",
              "      <td>2020-02-12 19:17:26</td>\n",
              "      <td>55.794388</td>\n",
              "      <td>49.111531</td>\n",
              "      <td>yxusI{xnjHgAfG??}IuHkAqA??pIoe@VsA??dAkG`BuH??...</td>\n",
              "    </tr>\n",
              "  </tbody>\n",
              "</table>\n",
              "</div>"
            ],
            "text/plain": [
              "    main_id_locality  ...                                              route\n",
              "Id                    ...                                                   \n",
              "0               1078  ...  gnvsIaq{jHChA??uC???OPG^F^NRzKBd@AN[r@???`@`@`...\n",
              "1               1078  ...  sqpsI}~zjHyAr]e@lMk@fLaBlb@i@rLKhBCdAUxEGlCg@f...\n",
              "2               1078  ...  auosI}mmkH?LHd@KhC??o@w@[g@m@iAUk@??{G|OiB`Ek@...\n",
              "3               1078  ...  {lhsIiffkHmKN_C?mIPwMJ??Si@gA{B??Wq@MRCJTp@hAd...\n",
              "4               1078  ...  yxusI{xnjHgAfG??}IuHkAqA??pIoe@VsA??dAkG`BuH??...\n",
              "\n",
              "[5 rows x 14 columns]"
            ]
          },
          "metadata": {
            "tags": []
          },
          "execution_count": 134
        }
      ]
    },
    {
      "cell_type": "code",
      "metadata": {
        "id": "Atd40avSCTi9",
        "colab_type": "code",
        "outputId": "3fd8b806-34fb-4a50-cf25-0b88eab01673",
        "colab": {
          "base_uri": "https://localhost:8080/",
          "height": 34
        }
      },
      "source": [
        "print(train.shape[1], valid.shape[1], test.shape[1])\n",
        "assert train.shape[1] == valid.shape[1]"
      ],
      "execution_count": 135,
      "outputs": [
        {
          "output_type": "stream",
          "text": [
            "14 14 13\n"
          ],
          "name": "stdout"
        }
      ]
    },
    {
      "cell_type": "code",
      "metadata": {
        "id": "Ncdh1K-ddQAn",
        "colab_type": "code",
        "colab": {
          "base_uri": "https://localhost:8080/",
          "height": 34
        },
        "outputId": "fdac6fbe-a9d0-4f75-dfa5-7f6073738875"
      },
      "source": [
        "train.columns.difference(test.columns)"
      ],
      "execution_count": 136,
      "outputs": [
        {
          "output_type": "execute_result",
          "data": {
            "text/plain": [
              "Index(['RTA'], dtype='object')"
            ]
          },
          "metadata": {
            "tags": []
          },
          "execution_count": 136
        }
      ]
    },
    {
      "cell_type": "markdown",
      "metadata": {
        "id": "bYTCycsQ-LmC",
        "colab_type": "text"
      },
      "source": [
        "### Outliers check"
      ]
    },
    {
      "cell_type": "code",
      "metadata": {
        "trusted": true,
        "id": "g2pVOgNA-LmJ",
        "colab_type": "code",
        "outputId": "b3d0abb1-c514-45fe-ec33-cef0a8be07ac",
        "colab": {
          "base_uri": "https://localhost:8080/",
          "height": 282
        }
      },
      "source": [
        "train.RTA.hist(bins=100)"
      ],
      "execution_count": 137,
      "outputs": [
        {
          "output_type": "execute_result",
          "data": {
            "text/plain": [
              "<matplotlib.axes._subplots.AxesSubplot at 0x7fb5fa290828>"
            ]
          },
          "metadata": {
            "tags": []
          },
          "execution_count": 137
        },
        {
          "output_type": "display_data",
          "data": {
            "image/png": "[encoded data removed]",
            "text/plain": [
              "<Figure size 432x288 with 1 Axes>"
            ]
          },
          "metadata": {
            "tags": [],
            "needs_background": "light"
          }
        }
      ]
    },
    {
      "cell_type": "code",
      "metadata": {
        "trusted": true,
        "id": "Ipi312H6-Lmp",
        "colab_type": "code",
        "colab": {}
      },
      "source": [
        "rta_mu = train.RTA.append(valid.RTA, ignore_index=True).mean()\n",
        "rta_std = train.RTA.append(valid.RTA, ignore_index=True).std()"
      ],
      "execution_count": 0,
      "outputs": []
    },
    {
      "cell_type": "code",
      "metadata": {
        "trusted": true,
        "id": "s_Q0hUg4-LnH",
        "colab_type": "code",
        "outputId": "a50fc089-9c7e-4aea-87c5-a4c363d17aff",
        "colab": {
          "base_uri": "https://localhost:8080/",
          "height": 34
        }
      },
      "source": [
        "# Dropping outliers\n",
        "samples = train.shape[0]\n",
        "train = train.query('RTA <= @rta_mu + 2 * @rta_std & RTA >= @rta_mu - 2 * @rta_std')\n",
        "print(f\"dropped outliers {samples - train.shape[0]}\")"
      ],
      "execution_count": 139,
      "outputs": [
        {
          "output_type": "stream",
          "text": [
            "dropped outliers 38775\n"
          ],
          "name": "stdout"
        }
      ]
    },
    {
      "cell_type": "code",
      "metadata": {
        "trusted": true,
        "id": "DbBWjicG-Lnm",
        "colab_type": "code",
        "outputId": "b12bf05b-cd7b-43f9-c3bb-052cdd9a5c01",
        "colab": {
          "base_uri": "https://localhost:8080/",
          "height": 34
        }
      },
      "source": [
        "# Dropping outliers from validation\n",
        "samples = valid.shape[0]\n",
        "valid = valid.query('RTA <= @rta_mu + 2 * @rta_std & RTA >= @rta_mu - 2 * @rta_std')\n",
        "print(f\"dropped outliers {samples - valid.shape[0]}\")"
      ],
      "execution_count": 140,
      "outputs": [
        {
          "output_type": "stream",
          "text": [
            "dropped outliers 4604\n"
          ],
          "name": "stdout"
        }
      ]
    },
    {
      "cell_type": "markdown",
      "metadata": {
        "id": "SEc1DN4O-LoA",
        "colab_type": "text"
      },
      "source": [
        "## Feature engineering"
      ]
    },
    {
      "cell_type": "markdown",
      "metadata": {
        "id": "OXYSh7qf-LoG",
        "colab_type": "text"
      },
      "source": [
        "### Features from routes"
      ]
    },
    {
      "cell_type": "code",
      "metadata": {
        "trusted": true,
        "id": "ZP9eFdz7-LoL",
        "colab_type": "code",
        "colab": {
          "base_uri": "https://localhost:8080/",
          "height": 52
        },
        "outputId": "768b1303-8630-4074-b646-ce205b35be6c"
      },
      "source": [
        "# Transforming routes into steps\n",
        "%time train['route_steps'] = train.route.apply(lambda x: len(polyline.decode(x)) if not pd.isna(x) else np.nan)"
      ],
      "execution_count": 141,
      "outputs": [
        {
          "output_type": "stream",
          "text": [
            "CPU times: user 1min 46s, sys: 8.08 ms, total: 1min 46s\n",
            "Wall time: 1min 46s\n"
          ],
          "name": "stdout"
        }
      ]
    },
    {
      "cell_type": "code",
      "metadata": {
        "trusted": true,
        "id": "c5XX0TAR-Loq",
        "colab_type": "code",
        "colab": {
          "base_uri": "https://localhost:8080/",
          "height": 52
        },
        "outputId": "89d067f3-fff0-47a8-83f1-f837460e8f78"
      },
      "source": [
        "# Transforming routes into steps\n",
        "%time valid['route_steps'] = valid.route.apply(lambda x: len(polyline.decode(x)) if not pd.isna(x) else np.nan)"
      ],
      "execution_count": 142,
      "outputs": [
        {
          "output_type": "stream",
          "text": [
            "CPU times: user 14.2 s, sys: 0 ns, total: 14.2 s\n",
            "Wall time: 14.2 s\n"
          ],
          "name": "stdout"
        }
      ]
    },
    {
      "cell_type": "code",
      "metadata": {
        "id": "sKjsc_8bTVU9",
        "colab_type": "code",
        "colab": {
          "base_uri": "https://localhost:8080/",
          "height": 52
        },
        "outputId": "05b1ac32-b1df-488a-ae48-bb43677460f5"
      },
      "source": [
        "# Transforming routes into steps\n",
        "%time test['route_steps'] = test.route.apply(lambda x: len(polyline.decode(x)) if not pd.isna(x) else np.nan)"
      ],
      "execution_count": 143,
      "outputs": [
        {
          "output_type": "stream",
          "text": [
            "CPU times: user 14.3 s, sys: 6.38 ms, total: 14.3 s\n",
            "Wall time: 14.3 s\n"
          ],
          "name": "stdout"
        }
      ]
    },
    {
      "cell_type": "code",
      "metadata": {
        "id": "Cd8wFptXgVUN",
        "colab_type": "code",
        "colab": {}
      },
      "source": [
        "median_steps = pd.concat([train.route_steps, valid.route_steps, test.route_steps], ignore_index=True).median()"
      ],
      "execution_count": 0,
      "outputs": []
    },
    {
      "cell_type": "code",
      "metadata": {
        "id": "hkH6OLivhs97",
        "colab_type": "code",
        "colab": {}
      },
      "source": [
        "train.route_steps.fillna(median_steps, inplace=True)\n",
        "valid.route_steps.fillna(median_steps, inplace=True)\n",
        "test.route_steps.fillna(median_steps, inplace=True)"
      ],
      "execution_count": 0,
      "outputs": []
    },
    {
      "cell_type": "markdown",
      "metadata": {
        "id": "nDbm44wD-LpD",
        "colab_type": "text"
      },
      "source": [
        "### Features from cordinates"
      ]
    },
    {
      "cell_type": "code",
      "metadata": {
        "id": "uNOGarHUZP4S",
        "colab_type": "code",
        "outputId": "2ba33212-2b0d-43f3-e7f8-6b638524f96b",
        "colab": {
          "base_uri": "https://localhost:8080/",
          "height": 935
        }
      },
      "source": [
        "fig, ax = plt.subplots(ncols=2, sharex=True, sharey=True, figsize=(16, 16))\n",
        "ax[0].scatter(train['longitude'].values[:500000], train['latitude'].values[:500000],\n",
        "              color='blue', s=1, label='train', alpha=0.1)\n",
        "ax[1].scatter(test['longitude'].values[:500000], test['latitude'].values[:500000],\n",
        "              color='green', s=1, label='test', alpha=0.1)\n",
        "fig.suptitle('Train test points dist')\n",
        "ax[0].legend(loc=0)\n",
        "ax[0].set_ylabel('latitude')\n",
        "ax[0].set_xlabel('longitude')\n",
        "ax[1].set_xlabel('longitude')\n",
        "ax[1].legend(loc=0)\n",
        "plt.show()"
      ],
      "execution_count": 146,
      "outputs": [
        {
          "output_type": "display_data",
          "data": {
            "image/png": "[encoded data removed]",
            "text/plain": [
              "<Figure size 1152x1152 with 2 Axes>"
            ]
          },
          "metadata": {
            "tags": [],
            "needs_background": "light"
          }
        }
      ]
    },
    {
      "cell_type": "code",
      "metadata": {
        "trusted": true,
        "id": "JoijeKF_-LpI",
        "colab_type": "code",
        "colab": {}
      },
      "source": [
        "# Route and distance features\n",
        "def haversine_array(lat1, lng1, lat2, lng2):\n",
        "    lat1, lng1, lat2, lng2 = map(np.radians, (lat1, lng1, lat2, lng2))\n",
        "    AVG_EARTH_RADIUS = 6371  # in km\n",
        "    lat = lat2 - lat1\n",
        "    lng = lng2 - lng1\n",
        "    d = np.sin(lat * 0.5) ** 2 + np.cos(lat1) * np.cos(lat2) * np.sin(lng * 0.5) ** 2\n",
        "    h = 2 * AVG_EARTH_RADIUS * np.arcsin(np.sqrt(d))\n",
        "    return h\n",
        "\n",
        "def manhattan_distance(lat1, lng1, lat2, lng2):\n",
        "    a = haversine_array(lat1, lng1, lat1, lng2)\n",
        "    b = haversine_array(lat1, lng1, lat2, lng1)\n",
        "    return a + b\n",
        "\n",
        "def bearing_array(lat1, lng1, lat2, lng2):\n",
        "    AVG_EARTH_RADIUS = 6371  # in km\n",
        "    lng_delta_rad = np.radians(lng2 - lng1)\n",
        "    lat1, lng1, lat2, lng2 = map(np.radians, (lat1, lng1, lat2, lng2))\n",
        "    y = np.sin(lng_delta_rad) * np.cos(lat2)\n",
        "    x = np.cos(lat1) * np.sin(lat2) - np.sin(lat1) * np.cos(lat2) * np.cos(lng_delta_rad)\n",
        "    return np.degrees(np.arctan2(y, x))"
      ],
      "execution_count": 0,
      "outputs": []
    },
    {
      "cell_type": "code",
      "metadata": {
        "trusted": true,
        "id": "EEf-QFGQ-Lpk",
        "colab_type": "code",
        "colab": {}
      },
      "source": [
        "# Function for all distance features\n",
        "def add_dist_features(df):\n",
        "    df['haversine_dist'] = haversine_array(df['latitude'].values, df['longitude'].values,\n",
        "                                          df['del_latitude'].values, df['del_longitude'].values)\n",
        "    df['manhattan_dist'] = manhattan_distance(df['latitude'].values, df['longitude'].values,\n",
        "                                          df['del_latitude'].values, df['del_longitude'].values)\n",
        "    df['angle'] = bearing_array(df['latitude'].values, df['longitude'].values,\n",
        "                                          df['del_latitude'].values, df['del_longitude'].values)"
      ],
      "execution_count": 0,
      "outputs": []
    },
    {
      "cell_type": "code",
      "metadata": {
        "trusted": true,
        "id": "-TuN1QYy-Lp7",
        "colab_type": "code",
        "outputId": "bd84954d-a1ad-40ee-a143-e24891c5bdcd",
        "colab": {
          "base_uri": "https://localhost:8080/",
          "height": 121
        }
      },
      "source": [
        "%time add_dist_features(train)\n",
        "%time add_dist_features(valid)\n",
        "%time add_dist_features(test)"
      ],
      "execution_count": 149,
      "outputs": [
        {
          "output_type": "stream",
          "text": [
            "CPU times: user 368 ms, sys: 931 µs, total: 369 ms\n",
            "Wall time: 369 ms\n",
            "CPU times: user 47.7 ms, sys: 0 ns, total: 47.7 ms\n",
            "Wall time: 47.7 ms\n",
            "CPU times: user 44.7 ms, sys: 1.01 ms, total: 45.7 ms\n",
            "Wall time: 45.3 ms\n"
          ],
          "name": "stdout"
        }
      ]
    },
    {
      "cell_type": "code",
      "metadata": {
        "trusted": true,
        "id": "p-HB92Ss-Lqa",
        "colab_type": "code",
        "outputId": "357d70f5-0206-4553-f818-886059d8b071",
        "colab": {
          "base_uri": "https://localhost:8080/",
          "height": 344
        }
      },
      "source": [
        "train.head()"
      ],
      "execution_count": 150,
      "outputs": [
        {
          "output_type": "execute_result",
          "data": {
            "text/html": [
              "<div>\n",
              "<style scoped>\n",
              "    .dataframe tbody tr th:only-of-type {\n",
              "        vertical-align: middle;\n",
              "    }\n",
              "\n",
              "    .dataframe tbody tr th {\n",
              "        vertical-align: top;\n",
              "    }\n",
              "\n",
              "    .dataframe thead th {\n",
              "        text-align: right;\n",
              "    }\n",
              "</style>\n",
              "<table border=\"1\" class=\"dataframe\">\n",
              "  <thead>\n",
              "    <tr style=\"text-align: right;\">\n",
              "      <th></th>\n",
              "      <th>main_id_locality</th>\n",
              "      <th>ETA</th>\n",
              "      <th>RTA</th>\n",
              "      <th>OrderedDate</th>\n",
              "      <th>latitude</th>\n",
              "      <th>del_latitude</th>\n",
              "      <th>longitude</th>\n",
              "      <th>del_longitude</th>\n",
              "      <th>EDA</th>\n",
              "      <th>ReadyForCollection</th>\n",
              "      <th>ClientCollected</th>\n",
              "      <th>center_latitude</th>\n",
              "      <th>center_longitude</th>\n",
              "      <th>route</th>\n",
              "      <th>route_steps</th>\n",
              "      <th>haversine_dist</th>\n",
              "      <th>manhattan_dist</th>\n",
              "      <th>angle</th>\n",
              "    </tr>\n",
              "    <tr>\n",
              "      <th>Id</th>\n",
              "      <th></th>\n",
              "      <th></th>\n",
              "      <th></th>\n",
              "      <th></th>\n",
              "      <th></th>\n",
              "      <th></th>\n",
              "      <th></th>\n",
              "      <th></th>\n",
              "      <th></th>\n",
              "      <th></th>\n",
              "      <th></th>\n",
              "      <th></th>\n",
              "      <th></th>\n",
              "      <th></th>\n",
              "      <th></th>\n",
              "      <th></th>\n",
              "      <th></th>\n",
              "      <th></th>\n",
              "    </tr>\n",
              "  </thead>\n",
              "  <tbody>\n",
              "    <tr>\n",
              "      <th>0</th>\n",
              "      <td>1078</td>\n",
              "      <td>226.0</td>\n",
              "      <td>188.0</td>\n",
              "      <td>2020-02-12 19:12:06</td>\n",
              "      <td>55.826019</td>\n",
              "      <td>55.825581</td>\n",
              "      <td>49.134529</td>\n",
              "      <td>49.126949</td>\n",
              "      <td>1.0</td>\n",
              "      <td>2020-02-12 19:14:33</td>\n",
              "      <td>2020-02-12 19:15:06</td>\n",
              "      <td>55.794388</td>\n",
              "      <td>49.111531</td>\n",
              "      <td>gnvsIaq{jHChA??uC???OPG^F^NRzKBd@AN[r@???`@`@`...</td>\n",
              "      <td>29.0</td>\n",
              "      <td>0.475936</td>\n",
              "      <td>0.522207</td>\n",
              "      <td>-95.879608</td>\n",
              "    </tr>\n",
              "    <tr>\n",
              "      <th>1</th>\n",
              "      <td>1078</td>\n",
              "      <td>718.0</td>\n",
              "      <td>725.0</td>\n",
              "      <td>2020-02-12 19:12:22</td>\n",
              "      <td>55.795502</td>\n",
              "      <td>55.820911</td>\n",
              "      <td>49.131470</td>\n",
              "      <td>49.115360</td>\n",
              "      <td>5.0</td>\n",
              "      <td>2020-02-12 19:19:03</td>\n",
              "      <td>2020-02-12 19:19:42</td>\n",
              "      <td>55.794388</td>\n",
              "      <td>49.111531</td>\n",
              "      <td>sqpsI}~zjHyAr]e@lMk@fLaBlb@i@rLKhBCdAUxEGlCg@f...</td>\n",
              "      <td>78.0</td>\n",
              "      <td>2.999397</td>\n",
              "      <td>3.832401</td>\n",
              "      <td>-19.603279</td>\n",
              "    </tr>\n",
              "    <tr>\n",
              "      <th>2</th>\n",
              "      <td>1078</td>\n",
              "      <td>612.0</td>\n",
              "      <td>764.0</td>\n",
              "      <td>2020-02-12 19:12:44</td>\n",
              "      <td>55.791050</td>\n",
              "      <td>55.819962</td>\n",
              "      <td>49.226070</td>\n",
              "      <td>49.176628</td>\n",
              "      <td>5.0</td>\n",
              "      <td>2020-02-12 19:15:21</td>\n",
              "      <td>2020-02-12 19:15:25</td>\n",
              "      <td>55.794388</td>\n",
              "      <td>49.111531</td>\n",
              "      <td>auosI}mmkH?LHd@KhC??o@w@[g@m@iAUk@??{G|OiB`Ek@...</td>\n",
              "      <td>79.0</td>\n",
              "      <td>4.458880</td>\n",
              "      <td>6.305716</td>\n",
              "      <td>-43.843021</td>\n",
              "    </tr>\n",
              "    <tr>\n",
              "      <th>3</th>\n",
              "      <td>1078</td>\n",
              "      <td>1560.0</td>\n",
              "      <td>1412.0</td>\n",
              "      <td>2020-02-12 19:12:44</td>\n",
              "      <td>55.753899</td>\n",
              "      <td>55.824680</td>\n",
              "      <td>49.188519</td>\n",
              "      <td>49.093700</td>\n",
              "      <td>13.0</td>\n",
              "      <td>2020-02-12 19:19:00</td>\n",
              "      <td>2020-02-12 19:19:09</td>\n",
              "      <td>55.794388</td>\n",
              "      <td>49.111531</td>\n",
              "      <td>{lhsIiffkHmKN_C?mIPwMJ??Si@gA{B??Wq@MRCJTp@hAd...</td>\n",
              "      <td>164.0</td>\n",
              "      <td>9.853176</td>\n",
              "      <td>13.803791</td>\n",
              "      <td>-36.946603</td>\n",
              "    </tr>\n",
              "    <tr>\n",
              "      <th>4</th>\n",
              "      <td>1078</td>\n",
              "      <td>1528.0</td>\n",
              "      <td>893.0</td>\n",
              "      <td>2020-02-12 19:12:45</td>\n",
              "      <td>55.822361</td>\n",
              "      <td>55.786758</td>\n",
              "      <td>49.069092</td>\n",
              "      <td>49.143501</td>\n",
              "      <td>9.0</td>\n",
              "      <td>2020-02-12 19:16:32</td>\n",
              "      <td>2020-02-12 19:17:26</td>\n",
              "      <td>55.794388</td>\n",
              "      <td>49.111531</td>\n",
              "      <td>yxusI{xnjHgAfG??}IuHkAqA??pIoe@VsA??dAkG`BuH??...</td>\n",
              "      <td>130.0</td>\n",
              "      <td>6.107029</td>\n",
              "      <td>8.606808</td>\n",
              "      <td>130.378310</td>\n",
              "    </tr>\n",
              "  </tbody>\n",
              "</table>\n",
              "</div>"
            ],
            "text/plain": [
              "    main_id_locality     ETA  ...  manhattan_dist       angle\n",
              "Id                            ...                            \n",
              "0               1078   226.0  ...        0.522207  -95.879608\n",
              "1               1078   718.0  ...        3.832401  -19.603279\n",
              "2               1078   612.0  ...        6.305716  -43.843021\n",
              "3               1078  1560.0  ...       13.803791  -36.946603\n",
              "4               1078  1528.0  ...        8.606808  130.378310\n",
              "\n",
              "[5 rows x 18 columns]"
            ]
          },
          "metadata": {
            "tags": []
          },
          "execution_count": 150
        }
      ]
    },
    {
      "cell_type": "code",
      "metadata": {
        "trusted": true,
        "id": "15c9ssUT-Lq3",
        "colab_type": "code",
        "colab": {}
      },
      "source": [
        "# first_version\n",
        "# train.drop(columns=['ReadyForCollection', 'ClientCollected', 'GoodArrived', 'route']).to_csv(path + 'train_clean.csv')"
      ],
      "execution_count": 0,
      "outputs": []
    },
    {
      "cell_type": "code",
      "metadata": {
        "trusted": true,
        "id": "2UfihpuX-Lre",
        "colab_type": "code",
        "colab": {}
      },
      "source": [
        "# first_version\n",
        "# valid.drop(columns=['ReadyForCollection', 'ClientCollected', 'GoodArrived', 'route']).to_csv(path + 'valid_clean.csv')"
      ],
      "execution_count": 0,
      "outputs": []
    },
    {
      "cell_type": "markdown",
      "metadata": {
        "id": "0aYoWL1A-Lr7",
        "colab_type": "text"
      },
      "source": [
        "### Time features"
      ]
    },
    {
      "cell_type": "code",
      "metadata": {
        "trusted": true,
        "id": "rpGjmWhj-LsA",
        "colab_type": "code",
        "colab": {}
      },
      "source": [
        "# First of all we need to get utc of every city\n",
        "try:\n",
        "    import timezonefinder\n",
        "    import pytz\n",
        "except ModuleNotFoundError:\n",
        "    !pip install pytz\n",
        "    !pip install timezonefinder\n",
        "    import pytz\n",
        "    import timezonefinder"
      ],
      "execution_count": 0,
      "outputs": []
    },
    {
      "cell_type": "code",
      "metadata": {
        "trusted": true,
        "id": "7tmKfqg9-LsZ",
        "colab_type": "code",
        "outputId": "f640cf4e-8afd-4980-f835-eb3c3353d7ac",
        "colab": {
          "base_uri": "https://localhost:8080/",
          "height": 69
        }
      },
      "source": [
        "print(f\"Unique cities:{train.main_id_locality.unique()} {train.main_id_locality.nunique()}\")\n",
        "print(f\"Unique cities:{train.center_latitude.unique()} {train.center_latitude.nunique()}\")\n",
        "print(f\"Unique cities:{train.center_longitude.unique()} {train.center_longitude.nunique()}\")"
      ],
      "execution_count": 154,
      "outputs": [
        {
          "output_type": "stream",
          "text": [
            "Unique cities:[ 1078 22390 22430 22438] 4\n",
            "Unique cities:[55.7943877 53.18333   51.530376  58.0103211] 4\n",
            "Unique cities:[49.1115312 50.11667   45.9530257 56.2341778] 4\n"
          ],
          "name": "stdout"
        }
      ]
    },
    {
      "cell_type": "code",
      "metadata": {
        "trusted": true,
        "id": "ZjPIHtVq-Lsv",
        "colab_type": "code",
        "colab": {}
      },
      "source": [
        "cities = train.groupby('main_id_locality', as_index=False)\\\n",
        "                [['center_latitude', 'center_longitude']].mean()"
      ],
      "execution_count": 0,
      "outputs": []
    },
    {
      "cell_type": "code",
      "metadata": {
        "trusted": true,
        "id": "mYMLm-oy-LtF",
        "colab_type": "code",
        "outputId": "52521191-7cb8-432d-8c81-9c6c09c3d5e9",
        "colab": {
          "base_uri": "https://localhost:8080/",
          "height": 175
        }
      },
      "source": [
        "cities"
      ],
      "execution_count": 156,
      "outputs": [
        {
          "output_type": "execute_result",
          "data": {
            "text/html": [
              "<div>\n",
              "<style scoped>\n",
              "    .dataframe tbody tr th:only-of-type {\n",
              "        vertical-align: middle;\n",
              "    }\n",
              "\n",
              "    .dataframe tbody tr th {\n",
              "        vertical-align: top;\n",
              "    }\n",
              "\n",
              "    .dataframe thead th {\n",
              "        text-align: right;\n",
              "    }\n",
              "</style>\n",
              "<table border=\"1\" class=\"dataframe\">\n",
              "  <thead>\n",
              "    <tr style=\"text-align: right;\">\n",
              "      <th></th>\n",
              "      <th>main_id_locality</th>\n",
              "      <th>center_latitude</th>\n",
              "      <th>center_longitude</th>\n",
              "    </tr>\n",
              "  </thead>\n",
              "  <tbody>\n",
              "    <tr>\n",
              "      <th>0</th>\n",
              "      <td>1078</td>\n",
              "      <td>55.794388</td>\n",
              "      <td>49.111531</td>\n",
              "    </tr>\n",
              "    <tr>\n",
              "      <th>1</th>\n",
              "      <td>22390</td>\n",
              "      <td>53.183330</td>\n",
              "      <td>50.116670</td>\n",
              "    </tr>\n",
              "    <tr>\n",
              "      <th>2</th>\n",
              "      <td>22430</td>\n",
              "      <td>51.530376</td>\n",
              "      <td>45.953026</td>\n",
              "    </tr>\n",
              "    <tr>\n",
              "      <th>3</th>\n",
              "      <td>22438</td>\n",
              "      <td>58.010321</td>\n",
              "      <td>56.234178</td>\n",
              "    </tr>\n",
              "  </tbody>\n",
              "</table>\n",
              "</div>"
            ],
            "text/plain": [
              "   main_id_locality  center_latitude  center_longitude\n",
              "0              1078        55.794388         49.111531\n",
              "1             22390        53.183330         50.116670\n",
              "2             22430        51.530376         45.953026\n",
              "3             22438        58.010321         56.234178"
            ]
          },
          "metadata": {
            "tags": []
          },
          "execution_count": 156
        }
      ]
    },
    {
      "cell_type": "code",
      "metadata": {
        "trusted": true,
        "id": "pJUhrXeZ-Lti",
        "colab_type": "code",
        "colab": {}
      },
      "source": [
        "# cities['names'] = ['Krsndr', 'Tol', 'Ufa', 'Ekb']"
      ],
      "execution_count": 0,
      "outputs": []
    },
    {
      "cell_type": "code",
      "metadata": {
        "id": "VxkSaUegGdXD",
        "colab_type": "code",
        "colab": {}
      },
      "source": [
        "# tf = timezonefinder.TimezoneFinder()\n",
        "def find_timezone(lat, lon):\n",
        "  return timezonefinder.TimezoneFinder().timezone_at(lng=lon, lat=lat)"
      ],
      "execution_count": 0,
      "outputs": []
    },
    {
      "cell_type": "code",
      "metadata": {
        "id": "wFQNK706G3SV",
        "colab_type": "code",
        "colab": {}
      },
      "source": [
        "find_timezone_vec = np.vectorize(find_timezone)"
      ],
      "execution_count": 0,
      "outputs": []
    },
    {
      "cell_type": "code",
      "metadata": {
        "id": "GmpaJBpPF18_",
        "colab_type": "code",
        "colab": {}
      },
      "source": [
        "cities['timezone'] = find_timezone_vec(cities['center_latitude'],\n",
        "                                       cities['center_longitude'])"
      ],
      "execution_count": 0,
      "outputs": []
    },
    {
      "cell_type": "code",
      "metadata": {
        "id": "ToeVv2H-MHEp",
        "colab_type": "code",
        "outputId": "af9f9f25-a3c2-4185-83bf-4555768874b0",
        "colab": {
          "base_uri": "https://localhost:8080/",
          "height": 617
        }
      },
      "source": [
        "train.merge(cities[['main_id_locality', 'timezone']], on='main_id_locality', how='left')"
      ],
      "execution_count": 161,
      "outputs": [
        {
          "output_type": "execute_result",
          "data": {
            "text/html": [
              "<div>\n",
              "<style scoped>\n",
              "    .dataframe tbody tr th:only-of-type {\n",
              "        vertical-align: middle;\n",
              "    }\n",
              "\n",
              "    .dataframe tbody tr th {\n",
              "        vertical-align: top;\n",
              "    }\n",
              "\n",
              "    .dataframe thead th {\n",
              "        text-align: right;\n",
              "    }\n",
              "</style>\n",
              "<table border=\"1\" class=\"dataframe\">\n",
              "  <thead>\n",
              "    <tr style=\"text-align: right;\">\n",
              "      <th></th>\n",
              "      <th>main_id_locality</th>\n",
              "      <th>ETA</th>\n",
              "      <th>RTA</th>\n",
              "      <th>OrderedDate</th>\n",
              "      <th>latitude</th>\n",
              "      <th>del_latitude</th>\n",
              "      <th>longitude</th>\n",
              "      <th>del_longitude</th>\n",
              "      <th>EDA</th>\n",
              "      <th>ReadyForCollection</th>\n",
              "      <th>ClientCollected</th>\n",
              "      <th>center_latitude</th>\n",
              "      <th>center_longitude</th>\n",
              "      <th>route</th>\n",
              "      <th>route_steps</th>\n",
              "      <th>haversine_dist</th>\n",
              "      <th>manhattan_dist</th>\n",
              "      <th>angle</th>\n",
              "      <th>timezone</th>\n",
              "    </tr>\n",
              "  </thead>\n",
              "  <tbody>\n",
              "    <tr>\n",
              "      <th>0</th>\n",
              "      <td>1078</td>\n",
              "      <td>226.0</td>\n",
              "      <td>188.0</td>\n",
              "      <td>2020-02-12 19:12:06</td>\n",
              "      <td>55.826019</td>\n",
              "      <td>55.825581</td>\n",
              "      <td>49.134529</td>\n",
              "      <td>49.126949</td>\n",
              "      <td>1.0</td>\n",
              "      <td>2020-02-12 19:14:33</td>\n",
              "      <td>2020-02-12 19:15:06</td>\n",
              "      <td>55.794388</td>\n",
              "      <td>49.111531</td>\n",
              "      <td>gnvsIaq{jHChA??uC???OPG^F^NRzKBd@AN[r@???`@`@`...</td>\n",
              "      <td>29.0</td>\n",
              "      <td>0.475936</td>\n",
              "      <td>0.522207</td>\n",
              "      <td>-95.879608</td>\n",
              "      <td>Europe/Moscow</td>\n",
              "    </tr>\n",
              "    <tr>\n",
              "      <th>1</th>\n",
              "      <td>1078</td>\n",
              "      <td>718.0</td>\n",
              "      <td>725.0</td>\n",
              "      <td>2020-02-12 19:12:22</td>\n",
              "      <td>55.795502</td>\n",
              "      <td>55.820911</td>\n",
              "      <td>49.131470</td>\n",
              "      <td>49.115360</td>\n",
              "      <td>5.0</td>\n",
              "      <td>2020-02-12 19:19:03</td>\n",
              "      <td>2020-02-12 19:19:42</td>\n",
              "      <td>55.794388</td>\n",
              "      <td>49.111531</td>\n",
              "      <td>sqpsI}~zjHyAr]e@lMk@fLaBlb@i@rLKhBCdAUxEGlCg@f...</td>\n",
              "      <td>78.0</td>\n",
              "      <td>2.999397</td>\n",
              "      <td>3.832401</td>\n",
              "      <td>-19.603279</td>\n",
              "      <td>Europe/Moscow</td>\n",
              "    </tr>\n",
              "    <tr>\n",
              "      <th>2</th>\n",
              "      <td>1078</td>\n",
              "      <td>612.0</td>\n",
              "      <td>764.0</td>\n",
              "      <td>2020-02-12 19:12:44</td>\n",
              "      <td>55.791050</td>\n",
              "      <td>55.819962</td>\n",
              "      <td>49.226070</td>\n",
              "      <td>49.176628</td>\n",
              "      <td>5.0</td>\n",
              "      <td>2020-02-12 19:15:21</td>\n",
              "      <td>2020-02-12 19:15:25</td>\n",
              "      <td>55.794388</td>\n",
              "      <td>49.111531</td>\n",
              "      <td>auosI}mmkH?LHd@KhC??o@w@[g@m@iAUk@??{G|OiB`Ek@...</td>\n",
              "      <td>79.0</td>\n",
              "      <td>4.458880</td>\n",
              "      <td>6.305716</td>\n",
              "      <td>-43.843021</td>\n",
              "      <td>Europe/Moscow</td>\n",
              "    </tr>\n",
              "    <tr>\n",
              "      <th>3</th>\n",
              "      <td>1078</td>\n",
              "      <td>1560.0</td>\n",
              "      <td>1412.0</td>\n",
              "      <td>2020-02-12 19:12:44</td>\n",
              "      <td>55.753899</td>\n",
              "      <td>55.824680</td>\n",
              "      <td>49.188519</td>\n",
              "      <td>49.093700</td>\n",
              "      <td>13.0</td>\n",
              "      <td>2020-02-12 19:19:00</td>\n",
              "      <td>2020-02-12 19:19:09</td>\n",
              "      <td>55.794388</td>\n",
              "      <td>49.111531</td>\n",
              "      <td>{lhsIiffkHmKN_C?mIPwMJ??Si@gA{B??Wq@MRCJTp@hAd...</td>\n",
              "      <td>164.0</td>\n",
              "      <td>9.853176</td>\n",
              "      <td>13.803791</td>\n",
              "      <td>-36.946603</td>\n",
              "      <td>Europe/Moscow</td>\n",
              "    </tr>\n",
              "    <tr>\n",
              "      <th>4</th>\n",
              "      <td>1078</td>\n",
              "      <td>1528.0</td>\n",
              "      <td>893.0</td>\n",
              "      <td>2020-02-12 19:12:45</td>\n",
              "      <td>55.822361</td>\n",
              "      <td>55.786758</td>\n",
              "      <td>49.069092</td>\n",
              "      <td>49.143501</td>\n",
              "      <td>9.0</td>\n",
              "      <td>2020-02-12 19:16:32</td>\n",
              "      <td>2020-02-12 19:17:26</td>\n",
              "      <td>55.794388</td>\n",
              "      <td>49.111531</td>\n",
              "      <td>yxusI{xnjHgAfG??}IuHkAqA??pIoe@VsA??dAkG`BuH??...</td>\n",
              "      <td>130.0</td>\n",
              "      <td>6.107029</td>\n",
              "      <td>8.606808</td>\n",
              "      <td>130.378310</td>\n",
              "      <td>Europe/Moscow</td>\n",
              "    </tr>\n",
              "    <tr>\n",
              "      <th>...</th>\n",
              "      <td>...</td>\n",
              "      <td>...</td>\n",
              "      <td>...</td>\n",
              "      <td>...</td>\n",
              "      <td>...</td>\n",
              "      <td>...</td>\n",
              "      <td>...</td>\n",
              "      <td>...</td>\n",
              "      <td>...</td>\n",
              "      <td>...</td>\n",
              "      <td>...</td>\n",
              "      <td>...</td>\n",
              "      <td>...</td>\n",
              "      <td>...</td>\n",
              "      <td>...</td>\n",
              "      <td>...</td>\n",
              "      <td>...</td>\n",
              "      <td>...</td>\n",
              "      <td>...</td>\n",
              "    </tr>\n",
              "    <tr>\n",
              "      <th>798348</th>\n",
              "      <td>22438</td>\n",
              "      <td>1276.0</td>\n",
              "      <td>1194.0</td>\n",
              "      <td>2020-02-05 10:07:30</td>\n",
              "      <td>57.957760</td>\n",
              "      <td>58.002869</td>\n",
              "      <td>56.276749</td>\n",
              "      <td>56.234638</td>\n",
              "      <td>7.0</td>\n",
              "      <td>2020-02-05 10:14:12</td>\n",
              "      <td>2020-02-05 10:17:44</td>\n",
              "      <td>58.010321</td>\n",
              "      <td>56.234178</td>\n",
              "      <td>_{v`JupnvImCvC??]SMAQDyA~AkB|BgKhL??sB`C??gBxB...</td>\n",
              "      <td>104.0</td>\n",
              "      <td>5.596670</td>\n",
              "      <td>7.500126</td>\n",
              "      <td>-26.316080</td>\n",
              "      <td>Asia/Yekaterinburg</td>\n",
              "    </tr>\n",
              "    <tr>\n",
              "      <th>798349</th>\n",
              "      <td>22438</td>\n",
              "      <td>2079.0</td>\n",
              "      <td>1542.0</td>\n",
              "      <td>2020-02-05 10:08:00</td>\n",
              "      <td>57.954140</td>\n",
              "      <td>58.010120</td>\n",
              "      <td>56.212978</td>\n",
              "      <td>56.292702</td>\n",
              "      <td>13.0</td>\n",
              "      <td>2020-02-05 10:13:00</td>\n",
              "      <td>2020-02-05 10:13:26</td>\n",
              "      <td>58.010321</td>\n",
              "      <td>56.234178</td>\n",
              "      <td>{dv`JeabvIbBjDL^On@kA|BIDc@}@??gD~GuIzR??sB|D?...</td>\n",
              "      <td>165.0</td>\n",
              "      <td>7.799848</td>\n",
              "      <td>10.928429</td>\n",
              "      <td>37.020715</td>\n",
              "      <td>Asia/Yekaterinburg</td>\n",
              "    </tr>\n",
              "    <tr>\n",
              "      <th>798350</th>\n",
              "      <td>22438</td>\n",
              "      <td>268.0</td>\n",
              "      <td>247.0</td>\n",
              "      <td>2020-02-05 10:08:19</td>\n",
              "      <td>57.995800</td>\n",
              "      <td>57.997299</td>\n",
              "      <td>56.164589</td>\n",
              "      <td>56.148571</td>\n",
              "      <td>1.0</td>\n",
              "      <td>2020-02-05 10:11:56</td>\n",
              "      <td>2020-02-05 10:13:37</td>\n",
              "      <td>58.010321</td>\n",
              "      <td>56.234178</td>\n",
              "      <td>wh~`JusxuI\\xE??h@a@??XfCjAjJ|@pGPzAvBlO??aAReC...</td>\n",
              "      <td>24.0</td>\n",
              "      <td>0.958543</td>\n",
              "      <td>1.110656</td>\n",
              "      <td>-79.977938</td>\n",
              "      <td>Asia/Yekaterinburg</td>\n",
              "    </tr>\n",
              "    <tr>\n",
              "      <th>798351</th>\n",
              "      <td>22438</td>\n",
              "      <td>695.0</td>\n",
              "      <td>379.0</td>\n",
              "      <td>2020-02-05 10:08:49</td>\n",
              "      <td>58.006859</td>\n",
              "      <td>58.001469</td>\n",
              "      <td>56.260590</td>\n",
              "      <td>56.304562</td>\n",
              "      <td>4.0</td>\n",
              "      <td>2020-02-05 10:13:34</td>\n",
              "      <td>2020-02-05 10:13:38</td>\n",
              "      <td>58.010321</td>\n",
              "      <td>56.234178</td>\n",
              "      <td>um`aJckkvItAsA??b@g@GmAAmIJkFPcFDsCzBuw@EwFKi@...</td>\n",
              "      <td>69.0</td>\n",
              "      <td>2.659147</td>\n",
              "      <td>3.189885</td>\n",
              "      <td>103.007477</td>\n",
              "      <td>Asia/Yekaterinburg</td>\n",
              "    </tr>\n",
              "    <tr>\n",
              "      <th>798352</th>\n",
              "      <td>22438</td>\n",
              "      <td>542.0</td>\n",
              "      <td>593.0</td>\n",
              "      <td>2020-02-05 10:09:01</td>\n",
              "      <td>57.995941</td>\n",
              "      <td>57.985729</td>\n",
              "      <td>56.202202</td>\n",
              "      <td>56.216560</td>\n",
              "      <td>2.0</td>\n",
              "      <td>2020-02-05 10:21:48</td>\n",
              "      <td>2020-02-05 10:22:20</td>\n",
              "      <td>58.010321</td>\n",
              "      <td>56.234178</td>\n",
              "      <td>ui~`Jw~_vIDXj@z@h@e@l@sB??i@}@??h@k@??jBuBZg@x...</td>\n",
              "      <td>50.0</td>\n",
              "      <td>1.416189</td>\n",
              "      <td>1.981679</td>\n",
              "      <td>143.297319</td>\n",
              "      <td>Asia/Yekaterinburg</td>\n",
              "    </tr>\n",
              "  </tbody>\n",
              "</table>\n",
              "<p>798353 rows × 19 columns</p>\n",
              "</div>"
            ],
            "text/plain": [
              "        main_id_locality     ETA  ...       angle            timezone\n",
              "0                   1078   226.0  ...  -95.879608       Europe/Moscow\n",
              "1                   1078   718.0  ...  -19.603279       Europe/Moscow\n",
              "2                   1078   612.0  ...  -43.843021       Europe/Moscow\n",
              "3                   1078  1560.0  ...  -36.946603       Europe/Moscow\n",
              "4                   1078  1528.0  ...  130.378310       Europe/Moscow\n",
              "...                  ...     ...  ...         ...                 ...\n",
              "798348             22438  1276.0  ...  -26.316080  Asia/Yekaterinburg\n",
              "798349             22438  2079.0  ...   37.020715  Asia/Yekaterinburg\n",
              "798350             22438   268.0  ...  -79.977938  Asia/Yekaterinburg\n",
              "798351             22438   695.0  ...  103.007477  Asia/Yekaterinburg\n",
              "798352             22438   542.0  ...  143.297319  Asia/Yekaterinburg\n",
              "\n",
              "[798353 rows x 19 columns]"
            ]
          },
          "metadata": {
            "tags": []
          },
          "execution_count": 161
        }
      ]
    },
    {
      "cell_type": "markdown",
      "metadata": {
        "id": "nD0WPvyCYnjM",
        "colab_type": "text"
      },
      "source": [
        "Обработаем и удалим фичи которые пока не используются:\n",
        "  - 'ReadyForCollection'\n",
        "  - 'ClientCollected'"
      ]
    },
    {
      "cell_type": "code",
      "metadata": {
        "id": "pjTYRX0zj0gb",
        "colab_type": "code",
        "colab": {}
      },
      "source": [
        "def add_time_delta(df):\n",
        "  df['ready_time'] = (df['ReadyForCollection'] - df['OrderedDate']).dt.seconds / 60\n",
        "  df['collcted_time'] = (df['ClientCollected'] - df['OrderedDate']).dt.seconds / 60\n",
        "  df['ready_collected_dif'] = df['collcted_time'] - df['ready_time']"
      ],
      "execution_count": 0,
      "outputs": []
    },
    {
      "cell_type": "code",
      "metadata": {
        "id": "vDJqQVmYkZFt",
        "colab_type": "code",
        "colab": {}
      },
      "source": [
        "add_time_delta(train)\n",
        "add_time_delta(valid)\n",
        "add_time_delta(test)"
      ],
      "execution_count": 0,
      "outputs": []
    },
    {
      "cell_type": "code",
      "metadata": {
        "id": "sFoAJ3CUYiMP",
        "colab_type": "code",
        "colab": {}
      },
      "source": [
        "train = train.drop(columns=['ReadyForCollection', 'ClientCollected', ])\n",
        "valid = valid.drop(columns=['ReadyForCollection', 'ClientCollected', ])\n",
        "test = test.drop(columns=['ReadyForCollection', 'ClientCollected', ])"
      ],
      "execution_count": 0,
      "outputs": []
    },
    {
      "cell_type": "markdown",
      "metadata": {
        "id": "TozRE2T0Y7tg",
        "colab_type": "text"
      },
      "source": [
        "Приведем время заказа к локальному времени"
      ]
    },
    {
      "cell_type": "code",
      "metadata": {
        "id": "sc43bOKWGZ5I",
        "colab_type": "code",
        "colab": {}
      },
      "source": [
        "# timezone localization\n",
        "def localize(df):\n",
        "    time_feat = ['OrderedDate', 'ReadyForCollection', 'ClientCollected', 'GoodArrived']\n",
        "    # temp_df = df[['main_id_locality'] + time_feat].merge(cities[['main_id_locality', 'timezone']], on='main_id_locality',\n",
        "    #          how='left')\n",
        "    # print(temp_df.columns)\n",
        "    timezones = dict(zip(cities.main_id_locality.values, cities.timezone.values))\n",
        "    for col in df:\n",
        "      if col in time_feat:\n",
        "        df[col] = df[col].dt.tz_localize('Europe/Moscow')\n",
        "        df[col + '_local'] = df[col]\n",
        "        print(col)\n",
        "        for zone in timezones:\n",
        "          print(timezones[zone], zone)\n",
        "          df[col + '_local'].loc[df[df['main_id_locality'] == zone].index] = \\\n",
        "                    df[col][df[df['main_id_locality'] == zone].index].dt.tz_convert(timezones[zone])\n",
        "    "
      ],
      "execution_count": 0,
      "outputs": []
    },
    {
      "cell_type": "code",
      "metadata": {
        "id": "MLrmzCsgLoa0",
        "colab_type": "code",
        "outputId": "dd019470-b7da-408a-8bfc-0d5877c1210c",
        "colab": {
          "base_uri": "https://localhost:8080/",
          "height": 384
        }
      },
      "source": [
        "localize(train)\n",
        "localize(valid)\n",
        "localize(test)"
      ],
      "execution_count": 166,
      "outputs": [
        {
          "output_type": "stream",
          "text": [
            "OrderedDate\n",
            "Europe/Moscow 1078\n"
          ],
          "name": "stdout"
        },
        {
          "output_type": "stream",
          "text": [
            "/usr/local/lib/python3.6/dist-packages/pandas/core/indexing.py:671: SettingWithCopyWarning: \n",
            "A value is trying to be set on a copy of a slice from a DataFrame\n",
            "\n",
            "See the caveats in the documentation: https://pandas.pydata.org/pandas-docs/stable/user_guide/indexing.html#returning-a-view-versus-a-copy\n",
            "  self._setitem_with_indexer(indexer, value)\n"
          ],
          "name": "stderr"
        },
        {
          "output_type": "stream",
          "text": [
            "Europe/Samara 22390\n",
            "Europe/Saratov 22430\n",
            "Asia/Yekaterinburg 22438\n",
            "OrderedDate\n",
            "Europe/Moscow 1078\n",
            "Europe/Samara 22390\n",
            "Europe/Saratov 22430\n",
            "Asia/Yekaterinburg 22438\n",
            "OrderedDate\n",
            "Europe/Moscow 1078\n",
            "Europe/Samara 22390\n",
            "Europe/Saratov 22430\n",
            "Asia/Yekaterinburg 22438\n"
          ],
          "name": "stdout"
        }
      ]
    },
    {
      "cell_type": "code",
      "metadata": {
        "id": "pvTvbz8cUofz",
        "colab_type": "code",
        "outputId": "470c7540-35d5-4ee3-ef8a-2ed3739274da",
        "colab": {
          "base_uri": "https://localhost:8080/",
          "height": 588
        }
      },
      "source": [
        "train.sample(10)"
      ],
      "execution_count": 167,
      "outputs": [
        {
          "output_type": "execute_result",
          "data": {
            "text/html": [
              "<div>\n",
              "<style scoped>\n",
              "    .dataframe tbody tr th:only-of-type {\n",
              "        vertical-align: middle;\n",
              "    }\n",
              "\n",
              "    .dataframe tbody tr th {\n",
              "        vertical-align: top;\n",
              "    }\n",
              "\n",
              "    .dataframe thead th {\n",
              "        text-align: right;\n",
              "    }\n",
              "</style>\n",
              "<table border=\"1\" class=\"dataframe\">\n",
              "  <thead>\n",
              "    <tr style=\"text-align: right;\">\n",
              "      <th></th>\n",
              "      <th>main_id_locality</th>\n",
              "      <th>ETA</th>\n",
              "      <th>RTA</th>\n",
              "      <th>OrderedDate</th>\n",
              "      <th>latitude</th>\n",
              "      <th>del_latitude</th>\n",
              "      <th>longitude</th>\n",
              "      <th>del_longitude</th>\n",
              "      <th>EDA</th>\n",
              "      <th>center_latitude</th>\n",
              "      <th>center_longitude</th>\n",
              "      <th>route</th>\n",
              "      <th>route_steps</th>\n",
              "      <th>haversine_dist</th>\n",
              "      <th>manhattan_dist</th>\n",
              "      <th>angle</th>\n",
              "      <th>ready_time</th>\n",
              "      <th>collcted_time</th>\n",
              "      <th>ready_collected_dif</th>\n",
              "      <th>OrderedDate_local</th>\n",
              "    </tr>\n",
              "    <tr>\n",
              "      <th>Id</th>\n",
              "      <th></th>\n",
              "      <th></th>\n",
              "      <th></th>\n",
              "      <th></th>\n",
              "      <th></th>\n",
              "      <th></th>\n",
              "      <th></th>\n",
              "      <th></th>\n",
              "      <th></th>\n",
              "      <th></th>\n",
              "      <th></th>\n",
              "      <th></th>\n",
              "      <th></th>\n",
              "      <th></th>\n",
              "      <th></th>\n",
              "      <th></th>\n",
              "      <th></th>\n",
              "      <th></th>\n",
              "      <th></th>\n",
              "      <th></th>\n",
              "    </tr>\n",
              "  </thead>\n",
              "  <tbody>\n",
              "    <tr>\n",
              "      <th>50997</th>\n",
              "      <td>1078</td>\n",
              "      <td>745.0</td>\n",
              "      <td>822.0</td>\n",
              "      <td>2020-02-06 13:31:36+03:00</td>\n",
              "      <td>55.823631</td>\n",
              "      <td>55.793678</td>\n",
              "      <td>49.114910</td>\n",
              "      <td>49.115829</td>\n",
              "      <td>6.0</td>\n",
              "      <td>55.794388</td>\n",
              "      <td>49.111531</td>\n",
              "      <td>u`vsIewwjHAhN?`HDpCCr@??pUAtAEx@JzEBxFAdAWb@EL...</td>\n",
              "      <td>97.0</td>\n",
              "      <td>3.331117</td>\n",
              "      <td>3.388047</td>\n",
              "      <td>179.011475</td>\n",
              "      <td>2.100000</td>\n",
              "      <td>4.266667</td>\n",
              "      <td>2.166667</td>\n",
              "      <td>2020-02-06 13:31:36+03:00</td>\n",
              "    </tr>\n",
              "    <tr>\n",
              "      <th>131769</th>\n",
              "      <td>1078</td>\n",
              "      <td>333.0</td>\n",
              "      <td>304.0</td>\n",
              "      <td>2020-02-15 12:49:40+03:00</td>\n",
              "      <td>55.803478</td>\n",
              "      <td>55.796329</td>\n",
              "      <td>49.185490</td>\n",
              "      <td>49.193501</td>\n",
              "      <td>2.0</td>\n",
              "      <td>55.794388</td>\n",
              "      <td>49.111531</td>\n",
              "      <td>wbrsIkpekHeC`AqHfD??Fn@lH}CrCsA`@GN?j@P`Bn@TLR...</td>\n",
              "      <td>25.0</td>\n",
              "      <td>0.939446</td>\n",
              "      <td>1.295545</td>\n",
              "      <td>147.791056</td>\n",
              "      <td>6.583333</td>\n",
              "      <td>7.250000</td>\n",
              "      <td>0.666667</td>\n",
              "      <td>2020-02-15 12:49:40+03:00</td>\n",
              "    </tr>\n",
              "    <tr>\n",
              "      <th>375385</th>\n",
              "      <td>22390</td>\n",
              "      <td>405.0</td>\n",
              "      <td>478.0</td>\n",
              "      <td>2020-01-23 07:12:56+03:00</td>\n",
              "      <td>53.200642</td>\n",
              "      <td>53.211720</td>\n",
              "      <td>50.163319</td>\n",
              "      <td>50.162971</td>\n",
              "      <td>2.0</td>\n",
              "      <td>53.183330</td>\n",
              "      <td>50.116670</td>\n",
              "      <td>_wucIwodqH{DjFoEzFqAjBaAN??Sq@QOi@M_@RUn@cB}D{...</td>\n",
              "      <td>31.0</td>\n",
              "      <td>1.232021</td>\n",
              "      <td>1.254926</td>\n",
              "      <td>-1.075082</td>\n",
              "      <td>10.583333</td>\n",
              "      <td>11.766667</td>\n",
              "      <td>1.183333</td>\n",
              "      <td>2020-01-23 08:12:56+04:00</td>\n",
              "    </tr>\n",
              "    <tr>\n",
              "      <th>216585</th>\n",
              "      <td>1078</td>\n",
              "      <td>919.0</td>\n",
              "      <td>586.0</td>\n",
              "      <td>2020-03-15 12:46:40+03:00</td>\n",
              "      <td>55.785580</td>\n",
              "      <td>55.766411</td>\n",
              "      <td>49.121571</td>\n",
              "      <td>49.179550</td>\n",
              "      <td>5.0</td>\n",
              "      <td>55.794388</td>\n",
              "      <td>49.111531</td>\n",
              "      <td>{rnsIy`yjHxAwDtIqShAgCRk@??P`@xBvF??v@aAnHmQrB...</td>\n",
              "      <td>69.0</td>\n",
              "      <td>4.206081</td>\n",
              "      <td>5.756593</td>\n",
              "      <td>120.424372</td>\n",
              "      <td>3.233333</td>\n",
              "      <td>3.383333</td>\n",
              "      <td>0.150000</td>\n",
              "      <td>2020-03-15 12:46:40+03:00</td>\n",
              "    </tr>\n",
              "    <tr>\n",
              "      <th>64124</th>\n",
              "      <td>1078</td>\n",
              "      <td>486.0</td>\n",
              "      <td>675.0</td>\n",
              "      <td>2020-03-06 11:44:52+03:00</td>\n",
              "      <td>55.788021</td>\n",
              "      <td>55.780350</td>\n",
              "      <td>49.110668</td>\n",
              "      <td>49.130878</td>\n",
              "      <td>2.0</td>\n",
              "      <td>55.794388</td>\n",
              "      <td>49.111531</td>\n",
              "      <td>ebosIu|vjHk@y@yAeC??_@c@i@q@??gCyD??~AiEp@}AFU...</td>\n",
              "      <td>27.0</td>\n",
              "      <td>1.524631</td>\n",
              "      <td>2.116563</td>\n",
              "      <td>124.012172</td>\n",
              "      <td>1.500000</td>\n",
              "      <td>2.850000</td>\n",
              "      <td>1.350000</td>\n",
              "      <td>2020-03-06 11:44:52+03:00</td>\n",
              "    </tr>\n",
              "    <tr>\n",
              "      <th>129937</th>\n",
              "      <td>1078</td>\n",
              "      <td>1387.0</td>\n",
              "      <td>712.0</td>\n",
              "      <td>2020-01-23 18:46:36+03:00</td>\n",
              "      <td>55.778709</td>\n",
              "      <td>55.734230</td>\n",
              "      <td>49.114639</td>\n",
              "      <td>49.172001</td>\n",
              "      <td>8.0</td>\n",
              "      <td>55.794388</td>\n",
              "      <td>49.111531</td>\n",
              "      <td>}gmsIouwjHnBgBzF}FbA_AnCsClCiCvBcBlFiFzAqA|A_B...</td>\n",
              "      <td>123.0</td>\n",
              "      <td>6.110954</td>\n",
              "      <td>8.532987</td>\n",
              "      <td>144.008436</td>\n",
              "      <td>2.816667</td>\n",
              "      <td>3.550000</td>\n",
              "      <td>0.733333</td>\n",
              "      <td>2020-01-23 18:46:36+03:00</td>\n",
              "    </tr>\n",
              "    <tr>\n",
              "      <th>132763</th>\n",
              "      <td>1078</td>\n",
              "      <td>374.0</td>\n",
              "      <td>188.0</td>\n",
              "      <td>2020-01-23 20:12:52+03:00</td>\n",
              "      <td>55.826462</td>\n",
              "      <td>55.824348</td>\n",
              "      <td>49.125542</td>\n",
              "      <td>49.152420</td>\n",
              "      <td>2.0</td>\n",
              "      <td>55.794388</td>\n",
              "      <td>49.111531</td>\n",
              "      <td>urvsIuyyjH@eC??cBG???a]CaABk[E{JAyz@HiJF}ARkC?...</td>\n",
              "      <td>38.0</td>\n",
              "      <td>1.695190</td>\n",
              "      <td>1.913770</td>\n",
              "      <td>97.957076</td>\n",
              "      <td>5.683333</td>\n",
              "      <td>6.333333</td>\n",
              "      <td>0.650000</td>\n",
              "      <td>2020-01-23 20:12:52+03:00</td>\n",
              "    </tr>\n",
              "    <tr>\n",
              "      <th>714748</th>\n",
              "      <td>22438</td>\n",
              "      <td>1509.0</td>\n",
              "      <td>1059.0</td>\n",
              "      <td>2020-02-15 12:50:22+03:00</td>\n",
              "      <td>57.996780</td>\n",
              "      <td>58.033470</td>\n",
              "      <td>56.222710</td>\n",
              "      <td>56.143040</td>\n",
              "      <td>10.0</td>\n",
              "      <td>58.010321</td>\n",
              "      <td>56.234178</td>\n",
              "      <td>go~`J}~cvIOV??sBkGm@qAk@}@MYsAgA}FoE_@g@e@sA{D...</td>\n",
              "      <td>131.0</td>\n",
              "      <td>6.218019</td>\n",
              "      <td>8.774636</td>\n",
              "      <td>-48.962229</td>\n",
              "      <td>21.583333</td>\n",
              "      <td>21.666667</td>\n",
              "      <td>0.083333</td>\n",
              "      <td>2020-02-15 14:50:22+05:00</td>\n",
              "    </tr>\n",
              "    <tr>\n",
              "      <th>354914</th>\n",
              "      <td>22390</td>\n",
              "      <td>584.0</td>\n",
              "      <td>505.0</td>\n",
              "      <td>2020-01-21 21:02:33+03:00</td>\n",
              "      <td>53.253738</td>\n",
              "      <td>53.234428</td>\n",
              "      <td>50.217690</td>\n",
              "      <td>50.210758</td>\n",
              "      <td>4.0</td>\n",
              "      <td>53.183330</td>\n",
              "      <td>50.116670</td>\n",
              "      <td>_f`dIk_oqH_@_AOEUc@@k@wCwFe@kA??`UaOpAOVD??RTZ...</td>\n",
              "      <td>47.0</td>\n",
              "      <td>2.196148</td>\n",
              "      <td>2.608278</td>\n",
              "      <td>-167.874420</td>\n",
              "      <td>4.450000</td>\n",
              "      <td>4.650000</td>\n",
              "      <td>0.200000</td>\n",
              "      <td>2020-01-21 22:02:33+04:00</td>\n",
              "    </tr>\n",
              "    <tr>\n",
              "      <th>132447</th>\n",
              "      <td>1078</td>\n",
              "      <td>1675.0</td>\n",
              "      <td>1423.0</td>\n",
              "      <td>2020-02-15 13:07:34+03:00</td>\n",
              "      <td>55.787128</td>\n",
              "      <td>55.759918</td>\n",
              "      <td>49.127522</td>\n",
              "      <td>49.238602</td>\n",
              "      <td>10.0</td>\n",
              "      <td>55.794388</td>\n",
              "      <td>49.111531</td>\n",
              "      <td>q|nsIcfzjHOH??]_Fa@aDaA}FkDgS_A}FyBuMkA{GkBkLC...</td>\n",
              "      <td>159.0</td>\n",
              "      <td>7.577583</td>\n",
              "      <td>9.970536</td>\n",
              "      <td>113.487762</td>\n",
              "      <td>6.316667</td>\n",
              "      <td>8.533333</td>\n",
              "      <td>2.216667</td>\n",
              "      <td>2020-02-15 13:07:34+03:00</td>\n",
              "    </tr>\n",
              "  </tbody>\n",
              "</table>\n",
              "</div>"
            ],
            "text/plain": [
              "        main_id_locality  ...          OrderedDate_local\n",
              "Id                        ...                           \n",
              "50997               1078  ...  2020-02-06 13:31:36+03:00\n",
              "131769              1078  ...  2020-02-15 12:49:40+03:00\n",
              "375385             22390  ...  2020-01-23 08:12:56+04:00\n",
              "216585              1078  ...  2020-03-15 12:46:40+03:00\n",
              "64124               1078  ...  2020-03-06 11:44:52+03:00\n",
              "129937              1078  ...  2020-01-23 18:46:36+03:00\n",
              "132763              1078  ...  2020-01-23 20:12:52+03:00\n",
              "714748             22438  ...  2020-02-15 14:50:22+05:00\n",
              "354914             22390  ...  2020-01-21 22:02:33+04:00\n",
              "132447              1078  ...  2020-02-15 13:07:34+03:00\n",
              "\n",
              "[10 rows x 20 columns]"
            ]
          },
          "metadata": {
            "tags": []
          },
          "execution_count": 167
        }
      ]
    },
    {
      "cell_type": "markdown",
      "metadata": {
        "id": "UApIxAQFZQAn",
        "colab_type": "text"
      },
      "source": [
        "## Creating time-features from OrderTime"
      ]
    },
    {
      "cell_type": "code",
      "metadata": {
        "id": "IcP63rfAZdBr",
        "colab_type": "code",
        "colab": {}
      },
      "source": [
        "def extract_time_features(df):\n",
        "  df['hour'] = df['OrderedDate_local'].apply(lambda x: x.hour)\n",
        "  df['day_of_week'] = df['OrderedDate_local'].apply(lambda x: x.dayofweek)\n",
        "  df['hour_of_week'] = df['day_of_week'] * 24 + df['hour']\n",
        "  df['day_of_month'] = df['OrderedDate_local'].apply(lambda x: x.day)"
      ],
      "execution_count": 0,
      "outputs": []
    },
    {
      "cell_type": "code",
      "metadata": {
        "id": "DudcKFbzZsBk",
        "colab_type": "code",
        "colab": {}
      },
      "source": [
        "extract_time_features(train)\n",
        "extract_time_features(valid)\n",
        "extract_time_features(test)"
      ],
      "execution_count": 0,
      "outputs": []
    },
    {
      "cell_type": "markdown",
      "metadata": {
        "id": "fy0xOSTucXKQ",
        "colab_type": "text"
      },
      "source": [
        "Добавим колонку выходного или праздничного дня"
      ]
    },
    {
      "cell_type": "code",
      "metadata": {
        "id": "9-hTMyc5Z5GS",
        "colab_type": "code",
        "colab": {}
      },
      "source": [
        "try:\n",
        "  import holidays\n",
        "except Exception:\n",
        "  !pip install holidays\n",
        "  import holidays"
      ],
      "execution_count": 0,
      "outputs": []
    },
    {
      "cell_type": "code",
      "metadata": {
        "id": "c2eVjLZicc8C",
        "colab_type": "code",
        "colab": {}
      },
      "source": [
        "ru_holidays = holidays.RU()"
      ],
      "execution_count": 0,
      "outputs": []
    },
    {
      "cell_type": "code",
      "metadata": {
        "id": "-ZFCyVG4eR7P",
        "colab_type": "code",
        "colab": {}
      },
      "source": [
        "def is_holiday(date):\n",
        "  if date in ru_holidays or date.dayofweek == 6:\n",
        "    return 1\n",
        "  return 0\n",
        "\n",
        "def add_holiday_column(df):\n",
        "  df['holiday'] = df['OrderedDate_local'].apply(lambda x: is_holiday(x))"
      ],
      "execution_count": 0,
      "outputs": []
    },
    {
      "cell_type": "code",
      "metadata": {
        "id": "Yp-o0uFgeT7R",
        "colab_type": "code",
        "colab": {}
      },
      "source": [
        "add_holiday_column(train)\n",
        "add_holiday_column(valid)\n",
        "add_holiday_column(test)"
      ],
      "execution_count": 0,
      "outputs": []
    },
    {
      "cell_type": "code",
      "metadata": {
        "id": "lOLFVRvyeWTh",
        "colab_type": "code",
        "outputId": "c94a1c0a-7343-4dfb-889e-b255eaa0d3ea",
        "colab": {
          "base_uri": "https://localhost:8080/",
          "height": 344
        }
      },
      "source": [
        "train.head()"
      ],
      "execution_count": 174,
      "outputs": [
        {
          "output_type": "execute_result",
          "data": {
            "text/html": [
              "<div>\n",
              "<style scoped>\n",
              "    .dataframe tbody tr th:only-of-type {\n",
              "        vertical-align: middle;\n",
              "    }\n",
              "\n",
              "    .dataframe tbody tr th {\n",
              "        vertical-align: top;\n",
              "    }\n",
              "\n",
              "    .dataframe thead th {\n",
              "        text-align: right;\n",
              "    }\n",
              "</style>\n",
              "<table border=\"1\" class=\"dataframe\">\n",
              "  <thead>\n",
              "    <tr style=\"text-align: right;\">\n",
              "      <th></th>\n",
              "      <th>main_id_locality</th>\n",
              "      <th>ETA</th>\n",
              "      <th>RTA</th>\n",
              "      <th>OrderedDate</th>\n",
              "      <th>latitude</th>\n",
              "      <th>del_latitude</th>\n",
              "      <th>longitude</th>\n",
              "      <th>del_longitude</th>\n",
              "      <th>EDA</th>\n",
              "      <th>center_latitude</th>\n",
              "      <th>center_longitude</th>\n",
              "      <th>route</th>\n",
              "      <th>route_steps</th>\n",
              "      <th>haversine_dist</th>\n",
              "      <th>manhattan_dist</th>\n",
              "      <th>angle</th>\n",
              "      <th>ready_time</th>\n",
              "      <th>collcted_time</th>\n",
              "      <th>ready_collected_dif</th>\n",
              "      <th>OrderedDate_local</th>\n",
              "      <th>hour</th>\n",
              "      <th>day_of_week</th>\n",
              "      <th>hour_of_week</th>\n",
              "      <th>day_of_month</th>\n",
              "      <th>holiday</th>\n",
              "    </tr>\n",
              "    <tr>\n",
              "      <th>Id</th>\n",
              "      <th></th>\n",
              "      <th></th>\n",
              "      <th></th>\n",
              "      <th></th>\n",
              "      <th></th>\n",
              "      <th></th>\n",
              "      <th></th>\n",
              "      <th></th>\n",
              "      <th></th>\n",
              "      <th></th>\n",
              "      <th></th>\n",
              "      <th></th>\n",
              "      <th></th>\n",
              "      <th></th>\n",
              "      <th></th>\n",
              "      <th></th>\n",
              "      <th></th>\n",
              "      <th></th>\n",
              "      <th></th>\n",
              "      <th></th>\n",
              "      <th></th>\n",
              "      <th></th>\n",
              "      <th></th>\n",
              "      <th></th>\n",
              "      <th></th>\n",
              "    </tr>\n",
              "  </thead>\n",
              "  <tbody>\n",
              "    <tr>\n",
              "      <th>0</th>\n",
              "      <td>1078</td>\n",
              "      <td>226.0</td>\n",
              "      <td>188.0</td>\n",
              "      <td>2020-02-12 19:12:06+03:00</td>\n",
              "      <td>55.826019</td>\n",
              "      <td>55.825581</td>\n",
              "      <td>49.134529</td>\n",
              "      <td>49.126949</td>\n",
              "      <td>1.0</td>\n",
              "      <td>55.794388</td>\n",
              "      <td>49.111531</td>\n",
              "      <td>gnvsIaq{jHChA??uC???OPG^F^NRzKBd@AN[r@???`@`@`...</td>\n",
              "      <td>29.0</td>\n",
              "      <td>0.475936</td>\n",
              "      <td>0.522207</td>\n",
              "      <td>-95.879608</td>\n",
              "      <td>2.450000</td>\n",
              "      <td>3.000000</td>\n",
              "      <td>0.550000</td>\n",
              "      <td>2020-02-12 19:12:06+03:00</td>\n",
              "      <td>19</td>\n",
              "      <td>2</td>\n",
              "      <td>67</td>\n",
              "      <td>12</td>\n",
              "      <td>0</td>\n",
              "    </tr>\n",
              "    <tr>\n",
              "      <th>1</th>\n",
              "      <td>1078</td>\n",
              "      <td>718.0</td>\n",
              "      <td>725.0</td>\n",
              "      <td>2020-02-12 19:12:22+03:00</td>\n",
              "      <td>55.795502</td>\n",
              "      <td>55.820911</td>\n",
              "      <td>49.131470</td>\n",
              "      <td>49.115360</td>\n",
              "      <td>5.0</td>\n",
              "      <td>55.794388</td>\n",
              "      <td>49.111531</td>\n",
              "      <td>sqpsI}~zjHyAr]e@lMk@fLaBlb@i@rLKhBCdAUxEGlCg@f...</td>\n",
              "      <td>78.0</td>\n",
              "      <td>2.999397</td>\n",
              "      <td>3.832401</td>\n",
              "      <td>-19.603279</td>\n",
              "      <td>6.683333</td>\n",
              "      <td>7.333333</td>\n",
              "      <td>0.650000</td>\n",
              "      <td>2020-02-12 19:12:22+03:00</td>\n",
              "      <td>19</td>\n",
              "      <td>2</td>\n",
              "      <td>67</td>\n",
              "      <td>12</td>\n",
              "      <td>0</td>\n",
              "    </tr>\n",
              "    <tr>\n",
              "      <th>2</th>\n",
              "      <td>1078</td>\n",
              "      <td>612.0</td>\n",
              "      <td>764.0</td>\n",
              "      <td>2020-02-12 19:12:44+03:00</td>\n",
              "      <td>55.791050</td>\n",
              "      <td>55.819962</td>\n",
              "      <td>49.226070</td>\n",
              "      <td>49.176628</td>\n",
              "      <td>5.0</td>\n",
              "      <td>55.794388</td>\n",
              "      <td>49.111531</td>\n",
              "      <td>auosI}mmkH?LHd@KhC??o@w@[g@m@iAUk@??{G|OiB`Ek@...</td>\n",
              "      <td>79.0</td>\n",
              "      <td>4.458880</td>\n",
              "      <td>6.305716</td>\n",
              "      <td>-43.843021</td>\n",
              "      <td>2.616667</td>\n",
              "      <td>2.683333</td>\n",
              "      <td>0.066667</td>\n",
              "      <td>2020-02-12 19:12:44+03:00</td>\n",
              "      <td>19</td>\n",
              "      <td>2</td>\n",
              "      <td>67</td>\n",
              "      <td>12</td>\n",
              "      <td>0</td>\n",
              "    </tr>\n",
              "    <tr>\n",
              "      <th>3</th>\n",
              "      <td>1078</td>\n",
              "      <td>1560.0</td>\n",
              "      <td>1412.0</td>\n",
              "      <td>2020-02-12 19:12:44+03:00</td>\n",
              "      <td>55.753899</td>\n",
              "      <td>55.824680</td>\n",
              "      <td>49.188519</td>\n",
              "      <td>49.093700</td>\n",
              "      <td>13.0</td>\n",
              "      <td>55.794388</td>\n",
              "      <td>49.111531</td>\n",
              "      <td>{lhsIiffkHmKN_C?mIPwMJ??Si@gA{B??Wq@MRCJTp@hAd...</td>\n",
              "      <td>164.0</td>\n",
              "      <td>9.853176</td>\n",
              "      <td>13.803791</td>\n",
              "      <td>-36.946603</td>\n",
              "      <td>6.266667</td>\n",
              "      <td>6.416667</td>\n",
              "      <td>0.150000</td>\n",
              "      <td>2020-02-12 19:12:44+03:00</td>\n",
              "      <td>19</td>\n",
              "      <td>2</td>\n",
              "      <td>67</td>\n",
              "      <td>12</td>\n",
              "      <td>0</td>\n",
              "    </tr>\n",
              "    <tr>\n",
              "      <th>4</th>\n",
              "      <td>1078</td>\n",
              "      <td>1528.0</td>\n",
              "      <td>893.0</td>\n",
              "      <td>2020-02-12 19:12:45+03:00</td>\n",
              "      <td>55.822361</td>\n",
              "      <td>55.786758</td>\n",
              "      <td>49.069092</td>\n",
              "      <td>49.143501</td>\n",
              "      <td>9.0</td>\n",
              "      <td>55.794388</td>\n",
              "      <td>49.111531</td>\n",
              "      <td>yxusI{xnjHgAfG??}IuHkAqA??pIoe@VsA??dAkG`BuH??...</td>\n",
              "      <td>130.0</td>\n",
              "      <td>6.107029</td>\n",
              "      <td>8.606808</td>\n",
              "      <td>130.378310</td>\n",
              "      <td>3.783333</td>\n",
              "      <td>4.683333</td>\n",
              "      <td>0.900000</td>\n",
              "      <td>2020-02-12 19:12:45+03:00</td>\n",
              "      <td>19</td>\n",
              "      <td>2</td>\n",
              "      <td>67</td>\n",
              "      <td>12</td>\n",
              "      <td>0</td>\n",
              "    </tr>\n",
              "  </tbody>\n",
              "</table>\n",
              "</div>"
            ],
            "text/plain": [
              "    main_id_locality     ETA     RTA  ... hour_of_week  day_of_month  holiday\n",
              "Id                                    ...                                    \n",
              "0               1078   226.0   188.0  ...           67            12        0\n",
              "1               1078   718.0   725.0  ...           67            12        0\n",
              "2               1078   612.0   764.0  ...           67            12        0\n",
              "3               1078  1560.0  1412.0  ...           67            12        0\n",
              "4               1078  1528.0   893.0  ...           67            12        0\n",
              "\n",
              "[5 rows x 25 columns]"
            ]
          },
          "metadata": {
            "tags": []
          },
          "execution_count": 174
        }
      ]
    },
    {
      "cell_type": "markdown",
      "metadata": {
        "id": "Mf403Jw4fW5_",
        "colab_type": "text"
      },
      "source": [
        "First step of data preprocessing ends"
      ]
    },
    {
      "cell_type": "code",
      "metadata": {
        "id": "rUiZ12SxfVvu",
        "colab_type": "code",
        "colab": {}
      },
      "source": [
        "# Useless columns for drop\n",
        "drop_cols = ['OrderedDate_local', 'OrderedDate', 'route']"
      ],
      "execution_count": 0,
      "outputs": []
    },
    {
      "cell_type": "code",
      "metadata": {
        "id": "QWZC5W74i-Zb",
        "colab_type": "code",
        "colab": {}
      },
      "source": [
        "assert valid.shape[1] == train.shape[1]"
      ],
      "execution_count": 0,
      "outputs": []
    },
    {
      "cell_type": "code",
      "metadata": {
        "id": "vSM42yF4ekIT",
        "colab_type": "code",
        "colab": {}
      },
      "source": [
        "# second_version\n",
        "# train.drop(columns=drop_cols).to_csv(path + 'train_clean.csv')\n",
        "# valid.drop(columns=drop_cols).to_csv(path + 'valid_clean.csv')"
      ],
      "execution_count": 0,
      "outputs": []
    },
    {
      "cell_type": "markdown",
      "metadata": {
        "id": "tLV-SgQviI2a",
        "colab_type": "text"
      },
      "source": [
        "## Weather\n",
        "Добавим фичи по средним погодным показателям за день"
      ]
    },
    {
      "cell_type": "code",
      "metadata": {
        "id": "QmuAaxBylSjU",
        "colab_type": "code",
        "colab": {}
      },
      "source": [
        "# Creating date column\n",
        "def add_date_col(df):\n",
        "  df['OrderedDate_date'] = df['OrderedDate'].apply(lambda x: x.date)"
      ],
      "execution_count": 0,
      "outputs": []
    },
    {
      "cell_type": "code",
      "metadata": {
        "id": "TVa-TQ54n2dD",
        "colab_type": "code",
        "colab": {}
      },
      "source": [
        "add_date_col(train)\n",
        "add_date_col(valid)\n",
        "add_date_col(test)"
      ],
      "execution_count": 0,
      "outputs": []
    },
    {
      "cell_type": "code",
      "metadata": {
        "id": "61UVcts7n7Gx",
        "colab_type": "code",
        "colab": {}
      },
      "source": [
        "prediction_year = train['OrderedDate_date'].max().year"
      ],
      "execution_count": 0,
      "outputs": []
    },
    {
      "cell_type": "markdown",
      "metadata": {
        "id": "E8f7sglpoXVZ",
        "colab_type": "text"
      },
      "source": [
        " Подключение класса, который вытягивает всю доступную погоду за год (историческую)"
      ]
    },
    {
      "cell_type": "code",
      "metadata": {
        "id": "dJvB6Y75euK0",
        "colab_type": "code",
        "colab": {}
      },
      "source": [
        "# from history_weather import YearWeather"
      ],
      "execution_count": 0,
      "outputs": []
    },
    {
      "cell_type": "code",
      "metadata": {
        "id": "uS5dJD3hozaA",
        "colab_type": "code",
        "colab": {}
      },
      "source": [
        "# from collections import defaultdict\n",
        "# YearWeather.years = defaultdict()"
      ],
      "execution_count": 0,
      "outputs": []
    },
    {
      "cell_type": "code",
      "metadata": {
        "id": "8CInT8xgpD3n",
        "colab_type": "code",
        "colab": {}
      },
      "source": [
        "# prediction_year"
      ],
      "execution_count": 0,
      "outputs": []
    },
    {
      "cell_type": "code",
      "metadata": {
        "id": "wSp9me0Jk6Ys",
        "colab_type": "code",
        "colab": {}
      },
      "source": [
        "# year_weather = YearWeather(prediction_year)"
      ],
      "execution_count": 0,
      "outputs": []
    },
    {
      "cell_type": "code",
      "metadata": {
        "id": "zrqlibzzomY_",
        "colab_type": "code",
        "colab": {}
      },
      "source": [
        "# YearWeather.get_year(2020).df"
      ],
      "execution_count": 0,
      "outputs": []
    },
    {
      "cell_type": "markdown",
      "metadata": {
        "id": "-X53xI0BvJB9",
        "colab_type": "text"
      },
      "source": [
        "## Clusterisation\n",
        "Для кластеризации будем использовать KMeans"
      ]
    },
    {
      "cell_type": "code",
      "metadata": {
        "id": "_KtZ-80PvXMU",
        "colab_type": "code",
        "colab": {}
      },
      "source": [
        "from sklearn.cluster import MiniBatchKMeans"
      ],
      "execution_count": 0,
      "outputs": []
    },
    {
      "cell_type": "code",
      "metadata": {
        "id": "GnvFLexJwSSc",
        "colab_type": "code",
        "colab": {}
      },
      "source": [
        "# Some consts\n",
        "clusters_for_city = 30"
      ],
      "execution_count": 0,
      "outputs": []
    },
    {
      "cell_type": "code",
      "metadata": {
        "id": "Pkbob9LExDjk",
        "colab_type": "code",
        "colab": {}
      },
      "source": [
        "# Creating array of coords\n",
        "coords = np.vstack((train[['latitude', 'longitude']].values,\n",
        "                    train[['del_latitude', 'del_latitude']].values,\n",
        "                    valid[['latitude', 'longitude']].values,\n",
        "                    valid[['del_latitude', 'del_latitude']].values,\n",
        "                    test[['latitude', 'longitude']].values,\n",
        "                    test[['del_latitude', 'del_latitude']].values,))"
      ],
      "execution_count": 0,
      "outputs": []
    },
    {
      "cell_type": "code",
      "metadata": {
        "id": "9I-JDc3CwB-f",
        "colab_type": "code",
        "colab": {
          "base_uri": "https://localhost:8080/",
          "height": 52
        },
        "outputId": "d5943712-867a-4425-f2c6-21d2949e6022"
      },
      "source": [
        "%time kmeans = MiniBatchKMeans(n_clusters=train.main_id_locality.nunique()\\\n",
        "                          * clusters_for_city, batch_size=50000).fit(coords)"
      ],
      "execution_count": 189,
      "outputs": [
        {
          "output_type": "stream",
          "text": [
            "CPU times: user 23 s, sys: 13.2 s, total: 36.3 s\n",
            "Wall time: 18.8 s\n"
          ],
          "name": "stdout"
        }
      ]
    },
    {
      "cell_type": "code",
      "metadata": {
        "id": "SPsj3O-1yNxQ",
        "colab_type": "code",
        "colab": {}
      },
      "source": [
        "def predict_clusters(df, kmeans):\n",
        "  df.loc[:, 'pickup_cluster'] = kmeans.predict(df[['latitude', 'longitude']])\n",
        "  df.loc[:, 'dropoff_cluster'] = kmeans.predict(df[['del_latitude', 'del_longitude']])"
      ],
      "execution_count": 0,
      "outputs": []
    },
    {
      "cell_type": "code",
      "metadata": {
        "id": "7mY0vAs_yz-j",
        "colab_type": "code",
        "colab": {}
      },
      "source": [
        "predict_clusters(train, kmeans)\n",
        "predict_clusters(valid, kmeans)\n",
        "predict_clusters(test, kmeans)"
      ],
      "execution_count": 0,
      "outputs": []
    },
    {
      "cell_type": "markdown",
      "metadata": {
        "id": "mptoPxtk0iq-",
        "colab_type": "text"
      },
      "source": [
        " ## Coord centralization"
      ]
    },
    {
      "cell_type": "code",
      "metadata": {
        "id": "Isx8Rj3K0iNr",
        "colab_type": "code",
        "colab": {}
      },
      "source": [
        "def centralize_coords(df):\n",
        "  df['latitude'] = df['latitude'] - df['center_latitude']\n",
        "  df['longitude'] = df['longitude'] - df['center_longitude']\n",
        "  df['del_latitude'] = df['del_latitude'] - df['center_latitude']\n",
        "  df['del_longitude'] = df['del_longitude'] - df['center_longitude']\n"
      ],
      "execution_count": 0,
      "outputs": []
    },
    {
      "cell_type": "code",
      "metadata": {
        "id": "MIXlDeFg1HuX",
        "colab_type": "code",
        "colab": {}
      },
      "source": [
        "centralize_coords(train)\n",
        "centralize_coords(valid)\n",
        "centralize_coords(test)"
      ],
      "execution_count": 0,
      "outputs": []
    },
    {
      "cell_type": "markdown",
      "metadata": {
        "id": "mIbwJtBFzI7j",
        "colab_type": "text"
      },
      "source": [
        "### PCA\n",
        "Ходят слухи что это может помочь для бустинга"
      ]
    },
    {
      "cell_type": "code",
      "metadata": {
        "id": "tEJ00lwxy9Y5",
        "colab_type": "code",
        "colab": {}
      },
      "source": [
        "from sklearn.decomposition import PCA"
      ],
      "execution_count": 0,
      "outputs": []
    },
    {
      "cell_type": "code",
      "metadata": {
        "id": "0Q4Urxk4HkOK",
        "colab_type": "code",
        "colab": {}
      },
      "source": [
        "del coords\n",
        "# Creating array of coords\n",
        "coords = np.vstack((train[['latitude', 'longitude']].values,\n",
        "                    train[['del_latitude', 'del_latitude']].values,\n",
        "                    valid[['latitude', 'longitude']].values,\n",
        "                    valid[['del_latitude', 'del_latitude']].values,\n",
        "                    test[['latitude', 'longitude']].values,\n",
        "                    test[['del_latitude', 'del_latitude']].values,))"
      ],
      "execution_count": 0,
      "outputs": []
    },
    {
      "cell_type": "code",
      "metadata": {
        "id": "I7w2mhPazag6",
        "colab_type": "code",
        "colab": {}
      },
      "source": [
        "pca = PCA().fit(coords)"
      ],
      "execution_count": 0,
      "outputs": []
    },
    {
      "cell_type": "code",
      "metadata": {
        "id": "o77i4bqszlOX",
        "colab_type": "code",
        "colab": {}
      },
      "source": [
        "def pca_coords(df, pca):\n",
        "  df['pickup_pca0'] = pca.transform(df[['latitude', 'longitude']])[:, 0]\n",
        "  df['pickup_pca1'] = pca.transform(df[['latitude', 'longitude']])[:, 1]\n",
        "  df['dropoff_pca0'] = pca.transform(df[['del_latitude', 'del_longitude']])[:, 0]\n",
        "  df['dropoff_pca1'] = pca.transform(df[['del_latitude', 'del_longitude']])[:, 1]"
      ],
      "execution_count": 0,
      "outputs": []
    },
    {
      "cell_type": "code",
      "metadata": {
        "id": "nbOIrQ0d0GHc",
        "colab_type": "code",
        "colab": {}
      },
      "source": [
        "pca_coords(train, pca)\n",
        "pca_coords(test, pca)\n",
        "pca_coords(valid, pca)"
      ],
      "execution_count": 0,
      "outputs": []
    },
    {
      "cell_type": "markdown",
      "metadata": {
        "id": "tavvCP9j00D6",
        "colab_type": "text"
      },
      "source": [
        "Second checkpoint of preprocessing"
      ]
    },
    {
      "cell_type": "code",
      "metadata": {
        "id": "-VSjYV6BFD85",
        "colab_type": "code",
        "colab": {}
      },
      "source": [
        "drop_cols += ['OrderedDate_date']"
      ],
      "execution_count": 0,
      "outputs": []
    },
    {
      "cell_type": "code",
      "metadata": {
        "id": "1MmiEQL20J7t",
        "colab_type": "code",
        "outputId": "39c2f630-cfd8-4ebf-92b8-e758ccb97bf3",
        "colab": {
          "base_uri": "https://localhost:8080/",
          "height": 34
        }
      },
      "source": [
        "print(valid.shape, train.shape, test.shape)\n",
        "assert valid.shape[1] == train.shape[1]"
      ],
      "execution_count": 202,
      "outputs": [
        {
          "output_type": "stream",
          "text": [
            "(96750, 32) (798353, 32) (89938, 31)\n"
          ],
          "name": "stdout"
        }
      ]
    },
    {
      "cell_type": "code",
      "metadata": {
        "id": "pMdtjEj41LRq",
        "colab_type": "code",
        "colab": {}
      },
      "source": [
        "# third_version\n",
        "# train.drop(columns=drop_cols).to_csv(path + 'train_clean.csv')\n",
        "# valid.drop(columns=drop_cols).to_csv(path + 'valid_clean.csv')\n",
        "# test.drop(columns=drop_cols).to_csv(path + 'test_clean.csv')"
      ],
      "execution_count": 0,
      "outputs": []
    },
    {
      "cell_type": "markdown",
      "metadata": {
        "id": "N_IfAxDEEL00",
        "colab_type": "text"
      },
      "source": [
        "### Taxi flow\n",
        "Добавим колонки с количесвом заказов в кластере в день и количество заказов в определенном часе\n"
      ]
    },
    {
      "cell_type": "code",
      "metadata": {
        "id": "G34R4JiQObCY",
        "colab_type": "code",
        "colab": {
          "base_uri": "https://localhost:8080/",
          "height": 542
        },
        "outputId": "b0773684-fb01-42f4-9d06-0a0d9bda5269"
      },
      "source": [
        "# train.groupby('holiday').ETA.count().plot(kind='bar', cmap='PRGn')\n",
        "# plt.show()\n",
        "train.groupby('day_of_week').ETA.count().plot(cmap='PRGn')\n",
        "plt.show()\n",
        "train.groupby('hour').ETA.count().plot(cmap='PRGn')\n",
        "plt.show()"
      ],
      "execution_count": 289,
      "outputs": [
        {
          "output_type": "display_data",
          "data": {
            "image/png": "[encoded data removed]",
            "text/plain": [
              "<Figure size 432x288 with 1 Axes>"
            ]
          },
          "metadata": {
            "tags": [],
            "needs_background": "light"
          }
        },
        {
          "output_type": "display_data",
          "data": {
            "image/png": "[encoded data removed]",
            "text/plain": [
              "<Figure size 432x288 with 1 Axes>"
            ]
          },
          "metadata": {
            "tags": [],
            "needs_background": "light"
          }
        }
      ]
    },
    {
      "cell_type": "code",
      "metadata": {
        "id": "ebj2vu3OLIup",
        "colab_type": "code",
        "outputId": "a76a5677-5238-4781-864e-06344128a79c",
        "colab": {
          "base_uri": "https://localhost:8080/",
          "height": 424
        }
      },
      "source": [
        "train.groupby(['pickup_cluster', 'OrderedDate_date'], as_index=False).ETA.count()"
      ],
      "execution_count": 204,
      "outputs": [
        {
          "output_type": "execute_result",
          "data": {
            "text/html": [
              "<div>\n",
              "<style scoped>\n",
              "    .dataframe tbody tr th:only-of-type {\n",
              "        vertical-align: middle;\n",
              "    }\n",
              "\n",
              "    .dataframe tbody tr th {\n",
              "        vertical-align: top;\n",
              "    }\n",
              "\n",
              "    .dataframe thead th {\n",
              "        text-align: right;\n",
              "    }\n",
              "</style>\n",
              "<table border=\"1\" class=\"dataframe\">\n",
              "  <thead>\n",
              "    <tr style=\"text-align: right;\">\n",
              "      <th></th>\n",
              "      <th>pickup_cluster</th>\n",
              "      <th>OrderedDate_date</th>\n",
              "      <th>ETA</th>\n",
              "    </tr>\n",
              "  </thead>\n",
              "  <tbody>\n",
              "    <tr>\n",
              "      <th>0</th>\n",
              "      <td>0</td>\n",
              "      <td>2020-01-20</td>\n",
              "      <td>179</td>\n",
              "    </tr>\n",
              "    <tr>\n",
              "      <th>1</th>\n",
              "      <td>0</td>\n",
              "      <td>2020-01-21</td>\n",
              "      <td>208</td>\n",
              "    </tr>\n",
              "    <tr>\n",
              "      <th>2</th>\n",
              "      <td>0</td>\n",
              "      <td>2020-01-22</td>\n",
              "      <td>205</td>\n",
              "    </tr>\n",
              "    <tr>\n",
              "      <th>3</th>\n",
              "      <td>0</td>\n",
              "      <td>2020-01-23</td>\n",
              "      <td>246</td>\n",
              "    </tr>\n",
              "    <tr>\n",
              "      <th>4</th>\n",
              "      <td>0</td>\n",
              "      <td>2020-01-24</td>\n",
              "      <td>367</td>\n",
              "    </tr>\n",
              "    <tr>\n",
              "      <th>...</th>\n",
              "      <td>...</td>\n",
              "      <td>...</td>\n",
              "      <td>...</td>\n",
              "    </tr>\n",
              "    <tr>\n",
              "      <th>4580</th>\n",
              "      <td>119</td>\n",
              "      <td>2020-03-12</td>\n",
              "      <td>289</td>\n",
              "    </tr>\n",
              "    <tr>\n",
              "      <th>4581</th>\n",
              "      <td>119</td>\n",
              "      <td>2020-03-13</td>\n",
              "      <td>249</td>\n",
              "    </tr>\n",
              "    <tr>\n",
              "      <th>4582</th>\n",
              "      <td>119</td>\n",
              "      <td>2020-03-14</td>\n",
              "      <td>372</td>\n",
              "    </tr>\n",
              "    <tr>\n",
              "      <th>4583</th>\n",
              "      <td>119</td>\n",
              "      <td>2020-03-15</td>\n",
              "      <td>273</td>\n",
              "    </tr>\n",
              "    <tr>\n",
              "      <th>4584</th>\n",
              "      <td>119</td>\n",
              "      <td>2020-03-16</td>\n",
              "      <td>297</td>\n",
              "    </tr>\n",
              "  </tbody>\n",
              "</table>\n",
              "<p>4585 rows × 3 columns</p>\n",
              "</div>"
            ],
            "text/plain": [
              "      pickup_cluster OrderedDate_date  ETA\n",
              "0                  0       2020-01-20  179\n",
              "1                  0       2020-01-21  208\n",
              "2                  0       2020-01-22  205\n",
              "3                  0       2020-01-23  246\n",
              "4                  0       2020-01-24  367\n",
              "...              ...              ...  ...\n",
              "4580             119       2020-03-12  289\n",
              "4581             119       2020-03-13  249\n",
              "4582             119       2020-03-14  372\n",
              "4583             119       2020-03-15  273\n",
              "4584             119       2020-03-16  297\n",
              "\n",
              "[4585 rows x 3 columns]"
            ]
          },
          "metadata": {
            "tags": []
          },
          "execution_count": 204
        }
      ]
    },
    {
      "cell_type": "code",
      "metadata": {
        "id": "sYQ1xb-7vFJm",
        "colab_type": "code",
        "colab": {
          "base_uri": "https://localhost:8080/",
          "height": 34
        },
        "outputId": "97051e2a-6e98-4918-ff1d-9576cc21cd67"
      },
      "source": [
        "train.shape"
      ],
      "execution_count": 205,
      "outputs": [
        {
          "output_type": "execute_result",
          "data": {
            "text/plain": [
              "(798353, 32)"
            ]
          },
          "metadata": {
            "tags": []
          },
          "execution_count": 205
        }
      ]
    },
    {
      "cell_type": "code",
      "metadata": {
        "id": "XZUl-fzcL1ZH",
        "colab_type": "code",
        "outputId": "71bf5b9b-4fa0-45fa-c223-05d62a5be84d",
        "colab": {
          "base_uri": "https://localhost:8080/",
          "height": 34
        }
      },
      "source": [
        "groupby_cols = ['main_id_locality', 'OrderedDate_date', 'hour']\n",
        "train.merge(train.groupby(['main_id_locality', 'OrderedDate_date', 'hour'],\n",
        "              as_index=False).ETA.count().rename({'ETA': 'hour_flow'}, axis=1),\n",
        "            on=groupby_cols, how='left').shape"
      ],
      "execution_count": 206,
      "outputs": [
        {
          "output_type": "execute_result",
          "data": {
            "text/plain": [
              "(798353, 33)"
            ]
          },
          "metadata": {
            "tags": []
          },
          "execution_count": 206
        }
      ]
    },
    {
      "cell_type": "code",
      "metadata": {
        "id": "oyjybcBMELGL",
        "colab_type": "code",
        "colab": {}
      },
      "source": [
        "def add_clusters_day_flow(df):\n",
        "  groupby_cols = ['pickup_cluster', 'OrderedDate_date']\n",
        "  temp = df.groupby(groupby_cols, as_index=False)\\\n",
        "              .ETA.count().rename({'ETA': 'cluster_day_flow'}, axis=1)\n",
        "  res = df.merge(temp, on=groupby_cols, how='left')\n",
        "  assert df.shape[0] == res.shape[0]\n",
        "  # del df\n",
        "  # return res\n",
        "  df['cluster_day_flow'] = df.merge(temp, on=groupby_cols)['cluster_day_flow']"
      ],
      "execution_count": 0,
      "outputs": []
    },
    {
      "cell_type": "code",
      "metadata": {
        "id": "Dj7qfPdxOA-I",
        "colab_type": "code",
        "colab": {}
      },
      "source": [
        "# add_clusters_day_flow(train)\n",
        "# valid = add_clusters_day_flow(valid)\n",
        "# test = add_clusters_day_flow(test)"
      ],
      "execution_count": 0,
      "outputs": []
    },
    {
      "cell_type": "code",
      "metadata": {
        "id": "U9YXja9HP7-v",
        "colab_type": "code",
        "colab": {}
      },
      "source": [
        "def add_hour_flow(df):\n",
        "  groupby_cols = ['main_id_locality', 'OrderedDate_date', 'hour']\n",
        "  temp = df.groupby(groupby_cols, as_index=False)\\\n",
        "              .ETA.count().rename({'ETA': 'hour_flow'}, axis=1)\n",
        "  res = df.merge(temp, on=groupby_cols, how='left').reset_index()\n",
        "  idx = df.index\n",
        "  assert df.shape[0] == res.shape[0]\n",
        "  # del df\n",
        "  return res"
      ],
      "execution_count": 0,
      "outputs": []
    },
    {
      "cell_type": "code",
      "metadata": {
        "id": "6G_yKzl1Q1k9",
        "colab_type": "code",
        "colab": {}
      },
      "source": [
        "# valid.drop(['hour_flow', \t'cluster_day_flow',], inplace=True, axis=1)\n",
        "# test.drop(['hour_flow', \t'cluster_day_flow',], inplace=True, axis=1)\n",
        "# train.drop([ \t'cluster_day_flow',], inplace=True, axis=1)\n"
      ],
      "execution_count": 0,
      "outputs": []
    },
    {
      "cell_type": "code",
      "metadata": {
        "id": "m6YP9rPMQn0-",
        "colab_type": "code",
        "colab": {}
      },
      "source": [
        "# train_1 = add_hour_flow(train)\n",
        "# valid = add_hour_flow(valid)\n",
        "# test = add_hour_flow(test)"
      ],
      "execution_count": 0,
      "outputs": []
    },
    {
      "cell_type": "code",
      "metadata": {
        "id": "m_Q9KH2zbTET",
        "colab_type": "code",
        "colab": {}
      },
      "source": [
        "# sum(train_1.index == train.index)"
      ],
      "execution_count": 0,
      "outputs": []
    },
    {
      "cell_type": "markdown",
      "metadata": {
        "id": "PZlTWbvyWceL",
        "colab_type": "text"
      },
      "source": [
        "### OneHotEncoding of cities\n",
        "Переведем метки городов OneHotEncoding"
      ]
    },
    {
      "cell_type": "code",
      "metadata": {
        "id": "9P9NBy77W50c",
        "colab_type": "code",
        "outputId": "6f7664c4-bed5-4387-8078-9bb2c0f8e767",
        "colab": {
          "base_uri": "https://localhost:8080/",
          "height": 455
        }
      },
      "source": [
        "pd.get_dummies(train['main_id_locality'], prefix='location', prefix_sep='_')"
      ],
      "execution_count": 212,
      "outputs": [
        {
          "output_type": "execute_result",
          "data": {
            "text/html": [
              "<div>\n",
              "<style scoped>\n",
              "    .dataframe tbody tr th:only-of-type {\n",
              "        vertical-align: middle;\n",
              "    }\n",
              "\n",
              "    .dataframe tbody tr th {\n",
              "        vertical-align: top;\n",
              "    }\n",
              "\n",
              "    .dataframe thead th {\n",
              "        text-align: right;\n",
              "    }\n",
              "</style>\n",
              "<table border=\"1\" class=\"dataframe\">\n",
              "  <thead>\n",
              "    <tr style=\"text-align: right;\">\n",
              "      <th></th>\n",
              "      <th>location_1078</th>\n",
              "      <th>location_22390</th>\n",
              "      <th>location_22430</th>\n",
              "      <th>location_22438</th>\n",
              "    </tr>\n",
              "    <tr>\n",
              "      <th>Id</th>\n",
              "      <th></th>\n",
              "      <th></th>\n",
              "      <th></th>\n",
              "      <th></th>\n",
              "    </tr>\n",
              "  </thead>\n",
              "  <tbody>\n",
              "    <tr>\n",
              "      <th>0</th>\n",
              "      <td>1</td>\n",
              "      <td>0</td>\n",
              "      <td>0</td>\n",
              "      <td>0</td>\n",
              "    </tr>\n",
              "    <tr>\n",
              "      <th>1</th>\n",
              "      <td>1</td>\n",
              "      <td>0</td>\n",
              "      <td>0</td>\n",
              "      <td>0</td>\n",
              "    </tr>\n",
              "    <tr>\n",
              "      <th>2</th>\n",
              "      <td>1</td>\n",
              "      <td>0</td>\n",
              "      <td>0</td>\n",
              "      <td>0</td>\n",
              "    </tr>\n",
              "    <tr>\n",
              "      <th>3</th>\n",
              "      <td>1</td>\n",
              "      <td>0</td>\n",
              "      <td>0</td>\n",
              "      <td>0</td>\n",
              "    </tr>\n",
              "    <tr>\n",
              "      <th>4</th>\n",
              "      <td>1</td>\n",
              "      <td>0</td>\n",
              "      <td>0</td>\n",
              "      <td>0</td>\n",
              "    </tr>\n",
              "    <tr>\n",
              "      <th>...</th>\n",
              "      <td>...</td>\n",
              "      <td>...</td>\n",
              "      <td>...</td>\n",
              "      <td>...</td>\n",
              "    </tr>\n",
              "    <tr>\n",
              "      <th>831219</th>\n",
              "      <td>0</td>\n",
              "      <td>0</td>\n",
              "      <td>0</td>\n",
              "      <td>1</td>\n",
              "    </tr>\n",
              "    <tr>\n",
              "      <th>831220</th>\n",
              "      <td>0</td>\n",
              "      <td>0</td>\n",
              "      <td>0</td>\n",
              "      <td>1</td>\n",
              "    </tr>\n",
              "    <tr>\n",
              "      <th>831221</th>\n",
              "      <td>0</td>\n",
              "      <td>0</td>\n",
              "      <td>0</td>\n",
              "      <td>1</td>\n",
              "    </tr>\n",
              "    <tr>\n",
              "      <th>831222</th>\n",
              "      <td>0</td>\n",
              "      <td>0</td>\n",
              "      <td>0</td>\n",
              "      <td>1</td>\n",
              "    </tr>\n",
              "    <tr>\n",
              "      <th>831223</th>\n",
              "      <td>0</td>\n",
              "      <td>0</td>\n",
              "      <td>0</td>\n",
              "      <td>1</td>\n",
              "    </tr>\n",
              "  </tbody>\n",
              "</table>\n",
              "<p>798353 rows × 4 columns</p>\n",
              "</div>"
            ],
            "text/plain": [
              "        location_1078  location_22390  location_22430  location_22438\n",
              "Id                                                                   \n",
              "0                   1               0               0               0\n",
              "1                   1               0               0               0\n",
              "2                   1               0               0               0\n",
              "3                   1               0               0               0\n",
              "4                   1               0               0               0\n",
              "...               ...             ...             ...             ...\n",
              "831219              0               0               0               1\n",
              "831220              0               0               0               1\n",
              "831221              0               0               0               1\n",
              "831222              0               0               0               1\n",
              "831223              0               0               0               1\n",
              "\n",
              "[798353 rows x 4 columns]"
            ]
          },
          "metadata": {
            "tags": []
          },
          "execution_count": 212
        }
      ]
    },
    {
      "cell_type": "code",
      "metadata": {
        "id": "pObyjrNwWv70",
        "colab_type": "code",
        "colab": {}
      },
      "source": [
        "def encode_cities(df):\n",
        "  dummies = pd.get_dummies(df['main_id_locality'], prefix='location', prefix_sep='_')\n",
        "  return df.merge(dummies, left_index=True, right_index=True).drop(columns=['main_id_locality'])"
      ],
      "execution_count": 0,
      "outputs": []
    },
    {
      "cell_type": "code",
      "metadata": {
        "id": "G52rDzuCXswm",
        "colab_type": "code",
        "colab": {}
      },
      "source": [
        "train = encode_cities(train)\n",
        "valid = encode_cities(valid)\n",
        "test = encode_cities(test)"
      ],
      "execution_count": 0,
      "outputs": []
    },
    {
      "cell_type": "markdown",
      "metadata": {
        "id": "iUbga8QSWJYm",
        "colab_type": "text"
      },
      "source": [
        "### Data output\n",
        "Last checkpoint of preprocessing\n"
      ]
    },
    {
      "cell_type": "code",
      "metadata": {
        "id": "4gV4BN6lcxln",
        "colab_type": "code",
        "colab": {}
      },
      "source": [
        "drop_cols += ['center_latitude', 'center_longitude']"
      ],
      "execution_count": 0,
      "outputs": []
    },
    {
      "cell_type": "code",
      "metadata": {
        "id": "W5KP5H0kReo_",
        "colab_type": "code",
        "colab": {}
      },
      "source": [
        "assert valid.shape[1] == train.shape[1] == (test.shape[1] + 1)"
      ],
      "execution_count": 0,
      "outputs": []
    },
    {
      "cell_type": "code",
      "metadata": {
        "id": "NqS-raAyNw_2",
        "colab_type": "code",
        "colab": {}
      },
      "source": [
        "# train.index.name = valid.index.name = test.index.name = 'Id'"
      ],
      "execution_count": 0,
      "outputs": []
    },
    {
      "cell_type": "code",
      "metadata": {
        "id": "YG83hLkO5G60",
        "colab_type": "code",
        "colab": {}
      },
      "source": [
        "from sklearn.preprocessing import scale, StandardScaler"
      ],
      "execution_count": 0,
      "outputs": []
    },
    {
      "cell_type": "code",
      "metadata": {
        "id": "JNbjnFjw3-J9",
        "colab_type": "code",
        "colab": {}
      },
      "source": [
        "cities = [col for col in train.columns if 'location_' in col]\n",
        "def scale_coords(df):\n",
        "  lst = ['latitude', 'longitude', 'del_latitude', 'del_longitude',\n",
        "         'pickup_pca0', 'pickup_pca1', 'dropoff_pca0', 'dropoff_pca0']\n",
        "  for city in cities:\n",
        "    for par in lst:\n",
        "      df[par][df[city] == 1] = scale(np.array(df[par][df[city] == 1]))"
      ],
      "execution_count": 0,
      "outputs": []
    },
    {
      "cell_type": "code",
      "metadata": {
        "id": "1z0uWv6l4pUP",
        "colab_type": "code",
        "colab": {
          "base_uri": "https://localhost:8080/",
          "height": 1000
        },
        "outputId": "97d58074-e9c8-4fa5-bb47-73975224c36e"
      },
      "source": [
        "scale_coords(train)\n",
        "scale_coords(valid)\n",
        "scale_coords(test)"
      ],
      "execution_count": 240,
      "outputs": [
        {
          "output_type": "stream",
          "text": [
            "/usr/local/lib/python3.6/dist-packages/ipykernel_launcher.py:7: SettingWithCopyWarning: \n",
            "A value is trying to be set on a copy of a slice from a DataFrame\n",
            "\n",
            "See the caveats in the documentation: https://pandas.pydata.org/pandas-docs/stable/user_guide/indexing.html#returning-a-view-versus-a-copy\n",
            "  import sys\n",
            "/usr/local/lib/python3.6/dist-packages/ipykernel_launcher.py:7: SettingWithCopyWarning: \n",
            "A value is trying to be set on a copy of a slice from a DataFrame\n",
            "\n",
            "See the caveats in the documentation: https://pandas.pydata.org/pandas-docs/stable/user_guide/indexing.html#returning-a-view-versus-a-copy\n",
            "  import sys\n",
            "/usr/local/lib/python3.6/dist-packages/ipykernel_launcher.py:7: SettingWithCopyWarning: \n",
            "A value is trying to be set on a copy of a slice from a DataFrame\n",
            "\n",
            "See the caveats in the documentation: https://pandas.pydata.org/pandas-docs/stable/user_guide/indexing.html#returning-a-view-versus-a-copy\n",
            "  import sys\n",
            "/usr/local/lib/python3.6/dist-packages/ipykernel_launcher.py:7: SettingWithCopyWarning: \n",
            "A value is trying to be set on a copy of a slice from a DataFrame\n",
            "\n",
            "See the caveats in the documentation: https://pandas.pydata.org/pandas-docs/stable/user_guide/indexing.html#returning-a-view-versus-a-copy\n",
            "  import sys\n",
            "/usr/local/lib/python3.6/dist-packages/ipykernel_launcher.py:7: SettingWithCopyWarning: \n",
            "A value is trying to be set on a copy of a slice from a DataFrame\n",
            "\n",
            "See the caveats in the documentation: https://pandas.pydata.org/pandas-docs/stable/user_guide/indexing.html#returning-a-view-versus-a-copy\n",
            "  import sys\n",
            "/usr/local/lib/python3.6/dist-packages/ipykernel_launcher.py:7: SettingWithCopyWarning: \n",
            "A value is trying to be set on a copy of a slice from a DataFrame\n",
            "\n",
            "See the caveats in the documentation: https://pandas.pydata.org/pandas-docs/stable/user_guide/indexing.html#returning-a-view-versus-a-copy\n",
            "  import sys\n",
            "/usr/local/lib/python3.6/dist-packages/ipykernel_launcher.py:7: SettingWithCopyWarning: \n",
            "A value is trying to be set on a copy of a slice from a DataFrame\n",
            "\n",
            "See the caveats in the documentation: https://pandas.pydata.org/pandas-docs/stable/user_guide/indexing.html#returning-a-view-versus-a-copy\n",
            "  import sys\n",
            "/usr/local/lib/python3.6/dist-packages/ipykernel_launcher.py:7: SettingWithCopyWarning: \n",
            "A value is trying to be set on a copy of a slice from a DataFrame\n",
            "\n",
            "See the caveats in the documentation: https://pandas.pydata.org/pandas-docs/stable/user_guide/indexing.html#returning-a-view-versus-a-copy\n",
            "  import sys\n",
            "/usr/local/lib/python3.6/dist-packages/ipykernel_launcher.py:7: SettingWithCopyWarning: \n",
            "A value is trying to be set on a copy of a slice from a DataFrame\n",
            "\n",
            "See the caveats in the documentation: https://pandas.pydata.org/pandas-docs/stable/user_guide/indexing.html#returning-a-view-versus-a-copy\n",
            "  import sys\n",
            "/usr/local/lib/python3.6/dist-packages/ipykernel_launcher.py:7: SettingWithCopyWarning: \n",
            "A value is trying to be set on a copy of a slice from a DataFrame\n",
            "\n",
            "See the caveats in the documentation: https://pandas.pydata.org/pandas-docs/stable/user_guide/indexing.html#returning-a-view-versus-a-copy\n",
            "  import sys\n",
            "/usr/local/lib/python3.6/dist-packages/ipykernel_launcher.py:7: SettingWithCopyWarning: \n",
            "A value is trying to be set on a copy of a slice from a DataFrame\n",
            "\n",
            "See the caveats in the documentation: https://pandas.pydata.org/pandas-docs/stable/user_guide/indexing.html#returning-a-view-versus-a-copy\n",
            "  import sys\n",
            "/usr/local/lib/python3.6/dist-packages/ipykernel_launcher.py:7: SettingWithCopyWarning: \n",
            "A value is trying to be set on a copy of a slice from a DataFrame\n",
            "\n",
            "See the caveats in the documentation: https://pandas.pydata.org/pandas-docs/stable/user_guide/indexing.html#returning-a-view-versus-a-copy\n",
            "  import sys\n",
            "/usr/local/lib/python3.6/dist-packages/ipykernel_launcher.py:7: SettingWithCopyWarning: \n",
            "A value is trying to be set on a copy of a slice from a DataFrame\n",
            "\n",
            "See the caveats in the documentation: https://pandas.pydata.org/pandas-docs/stable/user_guide/indexing.html#returning-a-view-versus-a-copy\n",
            "  import sys\n",
            "/usr/local/lib/python3.6/dist-packages/ipykernel_launcher.py:7: SettingWithCopyWarning: \n",
            "A value is trying to be set on a copy of a slice from a DataFrame\n",
            "\n",
            "See the caveats in the documentation: https://pandas.pydata.org/pandas-docs/stable/user_guide/indexing.html#returning-a-view-versus-a-copy\n",
            "  import sys\n",
            "/usr/local/lib/python3.6/dist-packages/ipykernel_launcher.py:7: SettingWithCopyWarning: \n",
            "A value is trying to be set on a copy of a slice from a DataFrame\n",
            "\n",
            "See the caveats in the documentation: https://pandas.pydata.org/pandas-docs/stable/user_guide/indexing.html#returning-a-view-versus-a-copy\n",
            "  import sys\n",
            "/usr/local/lib/python3.6/dist-packages/ipykernel_launcher.py:7: SettingWithCopyWarning: \n",
            "A value is trying to be set on a copy of a slice from a DataFrame\n",
            "\n",
            "See the caveats in the documentation: https://pandas.pydata.org/pandas-docs/stable/user_guide/indexing.html#returning-a-view-versus-a-copy\n",
            "  import sys\n",
            "/usr/local/lib/python3.6/dist-packages/ipykernel_launcher.py:7: SettingWithCopyWarning: \n",
            "A value is trying to be set on a copy of a slice from a DataFrame\n",
            "\n",
            "See the caveats in the documentation: https://pandas.pydata.org/pandas-docs/stable/user_guide/indexing.html#returning-a-view-versus-a-copy\n",
            "  import sys\n",
            "/usr/local/lib/python3.6/dist-packages/ipykernel_launcher.py:7: SettingWithCopyWarning: \n",
            "A value is trying to be set on a copy of a slice from a DataFrame\n",
            "\n",
            "See the caveats in the documentation: https://pandas.pydata.org/pandas-docs/stable/user_guide/indexing.html#returning-a-view-versus-a-copy\n",
            "  import sys\n",
            "/usr/local/lib/python3.6/dist-packages/ipykernel_launcher.py:7: SettingWithCopyWarning: \n",
            "A value is trying to be set on a copy of a slice from a DataFrame\n",
            "\n",
            "See the caveats in the documentation: https://pandas.pydata.org/pandas-docs/stable/user_guide/indexing.html#returning-a-view-versus-a-copy\n",
            "  import sys\n",
            "/usr/local/lib/python3.6/dist-packages/ipykernel_launcher.py:7: SettingWithCopyWarning: \n",
            "A value is trying to be set on a copy of a slice from a DataFrame\n",
            "\n",
            "See the caveats in the documentation: https://pandas.pydata.org/pandas-docs/stable/user_guide/indexing.html#returning-a-view-versus-a-copy\n",
            "  import sys\n",
            "/usr/local/lib/python3.6/dist-packages/ipykernel_launcher.py:7: SettingWithCopyWarning: \n",
            "A value is trying to be set on a copy of a slice from a DataFrame\n",
            "\n",
            "See the caveats in the documentation: https://pandas.pydata.org/pandas-docs/stable/user_guide/indexing.html#returning-a-view-versus-a-copy\n",
            "  import sys\n",
            "/usr/local/lib/python3.6/dist-packages/ipykernel_launcher.py:7: SettingWithCopyWarning: \n",
            "A value is trying to be set on a copy of a slice from a DataFrame\n",
            "\n",
            "See the caveats in the documentation: https://pandas.pydata.org/pandas-docs/stable/user_guide/indexing.html#returning-a-view-versus-a-copy\n",
            "  import sys\n",
            "/usr/local/lib/python3.6/dist-packages/ipykernel_launcher.py:7: SettingWithCopyWarning: \n",
            "A value is trying to be set on a copy of a slice from a DataFrame\n",
            "\n",
            "See the caveats in the documentation: https://pandas.pydata.org/pandas-docs/stable/user_guide/indexing.html#returning-a-view-versus-a-copy\n",
            "  import sys\n",
            "/usr/local/lib/python3.6/dist-packages/ipykernel_launcher.py:7: SettingWithCopyWarning: \n",
            "A value is trying to be set on a copy of a slice from a DataFrame\n",
            "\n",
            "See the caveats in the documentation: https://pandas.pydata.org/pandas-docs/stable/user_guide/indexing.html#returning-a-view-versus-a-copy\n",
            "  import sys\n",
            "/usr/local/lib/python3.6/dist-packages/ipykernel_launcher.py:7: SettingWithCopyWarning: \n",
            "A value is trying to be set on a copy of a slice from a DataFrame\n",
            "\n",
            "See the caveats in the documentation: https://pandas.pydata.org/pandas-docs/stable/user_guide/indexing.html#returning-a-view-versus-a-copy\n",
            "  import sys\n",
            "/usr/local/lib/python3.6/dist-packages/ipykernel_launcher.py:7: SettingWithCopyWarning: \n",
            "A value is trying to be set on a copy of a slice from a DataFrame\n",
            "\n",
            "See the caveats in the documentation: https://pandas.pydata.org/pandas-docs/stable/user_guide/indexing.html#returning-a-view-versus-a-copy\n",
            "  import sys\n",
            "/usr/local/lib/python3.6/dist-packages/ipykernel_launcher.py:7: SettingWithCopyWarning: \n",
            "A value is trying to be set on a copy of a slice from a DataFrame\n",
            "\n",
            "See the caveats in the documentation: https://pandas.pydata.org/pandas-docs/stable/user_guide/indexing.html#returning-a-view-versus-a-copy\n",
            "  import sys\n",
            "/usr/local/lib/python3.6/dist-packages/ipykernel_launcher.py:7: SettingWithCopyWarning: \n",
            "A value is trying to be set on a copy of a slice from a DataFrame\n",
            "\n",
            "See the caveats in the documentation: https://pandas.pydata.org/pandas-docs/stable/user_guide/indexing.html#returning-a-view-versus-a-copy\n",
            "  import sys\n",
            "/usr/local/lib/python3.6/dist-packages/ipykernel_launcher.py:7: SettingWithCopyWarning: \n",
            "A value is trying to be set on a copy of a slice from a DataFrame\n",
            "\n",
            "See the caveats in the documentation: https://pandas.pydata.org/pandas-docs/stable/user_guide/indexing.html#returning-a-view-versus-a-copy\n",
            "  import sys\n",
            "/usr/local/lib/python3.6/dist-packages/ipykernel_launcher.py:7: SettingWithCopyWarning: \n",
            "A value is trying to be set on a copy of a slice from a DataFrame\n",
            "\n",
            "See the caveats in the documentation: https://pandas.pydata.org/pandas-docs/stable/user_guide/indexing.html#returning-a-view-versus-a-copy\n",
            "  import sys\n",
            "/usr/local/lib/python3.6/dist-packages/ipykernel_launcher.py:7: SettingWithCopyWarning: \n",
            "A value is trying to be set on a copy of a slice from a DataFrame\n",
            "\n",
            "See the caveats in the documentation: https://pandas.pydata.org/pandas-docs/stable/user_guide/indexing.html#returning-a-view-versus-a-copy\n",
            "  import sys\n",
            "/usr/local/lib/python3.6/dist-packages/ipykernel_launcher.py:7: SettingWithCopyWarning: \n",
            "A value is trying to be set on a copy of a slice from a DataFrame\n",
            "\n",
            "See the caveats in the documentation: https://pandas.pydata.org/pandas-docs/stable/user_guide/indexing.html#returning-a-view-versus-a-copy\n",
            "  import sys\n",
            "/usr/local/lib/python3.6/dist-packages/ipykernel_launcher.py:7: SettingWithCopyWarning: \n",
            "A value is trying to be set on a copy of a slice from a DataFrame\n",
            "\n",
            "See the caveats in the documentation: https://pandas.pydata.org/pandas-docs/stable/user_guide/indexing.html#returning-a-view-versus-a-copy\n",
            "  import sys\n",
            "/usr/local/lib/python3.6/dist-packages/ipykernel_launcher.py:7: SettingWithCopyWarning: \n",
            "A value is trying to be set on a copy of a slice from a DataFrame\n",
            "\n",
            "See the caveats in the documentation: https://pandas.pydata.org/pandas-docs/stable/user_guide/indexing.html#returning-a-view-versus-a-copy\n",
            "  import sys\n",
            "/usr/local/lib/python3.6/dist-packages/ipykernel_launcher.py:7: SettingWithCopyWarning: \n",
            "A value is trying to be set on a copy of a slice from a DataFrame\n",
            "\n",
            "See the caveats in the documentation: https://pandas.pydata.org/pandas-docs/stable/user_guide/indexing.html#returning-a-view-versus-a-copy\n",
            "  import sys\n",
            "/usr/local/lib/python3.6/dist-packages/ipykernel_launcher.py:7: SettingWithCopyWarning: \n",
            "A value is trying to be set on a copy of a slice from a DataFrame\n",
            "\n",
            "See the caveats in the documentation: https://pandas.pydata.org/pandas-docs/stable/user_guide/indexing.html#returning-a-view-versus-a-copy\n",
            "  import sys\n",
            "/usr/local/lib/python3.6/dist-packages/ipykernel_launcher.py:7: SettingWithCopyWarning: \n",
            "A value is trying to be set on a copy of a slice from a DataFrame\n",
            "\n",
            "See the caveats in the documentation: https://pandas.pydata.org/pandas-docs/stable/user_guide/indexing.html#returning-a-view-versus-a-copy\n",
            "  import sys\n",
            "/usr/local/lib/python3.6/dist-packages/ipykernel_launcher.py:7: SettingWithCopyWarning: \n",
            "A value is trying to be set on a copy of a slice from a DataFrame\n",
            "\n",
            "See the caveats in the documentation: https://pandas.pydata.org/pandas-docs/stable/user_guide/indexing.html#returning-a-view-versus-a-copy\n",
            "  import sys\n",
            "/usr/local/lib/python3.6/dist-packages/ipykernel_launcher.py:7: SettingWithCopyWarning: \n",
            "A value is trying to be set on a copy of a slice from a DataFrame\n",
            "\n",
            "See the caveats in the documentation: https://pandas.pydata.org/pandas-docs/stable/user_guide/indexing.html#returning-a-view-versus-a-copy\n",
            "  import sys\n",
            "/usr/local/lib/python3.6/dist-packages/ipykernel_launcher.py:7: SettingWithCopyWarning: \n",
            "A value is trying to be set on a copy of a slice from a DataFrame\n",
            "\n",
            "See the caveats in the documentation: https://pandas.pydata.org/pandas-docs/stable/user_guide/indexing.html#returning-a-view-versus-a-copy\n",
            "  import sys\n",
            "/usr/local/lib/python3.6/dist-packages/ipykernel_launcher.py:7: SettingWithCopyWarning: \n",
            "A value is trying to be set on a copy of a slice from a DataFrame\n",
            "\n",
            "See the caveats in the documentation: https://pandas.pydata.org/pandas-docs/stable/user_guide/indexing.html#returning-a-view-versus-a-copy\n",
            "  import sys\n",
            "/usr/local/lib/python3.6/dist-packages/ipykernel_launcher.py:7: SettingWithCopyWarning: \n",
            "A value is trying to be set on a copy of a slice from a DataFrame\n",
            "\n",
            "See the caveats in the documentation: https://pandas.pydata.org/pandas-docs/stable/user_guide/indexing.html#returning-a-view-versus-a-copy\n",
            "  import sys\n",
            "/usr/local/lib/python3.6/dist-packages/ipykernel_launcher.py:7: SettingWithCopyWarning: \n",
            "A value is trying to be set on a copy of a slice from a DataFrame\n",
            "\n",
            "See the caveats in the documentation: https://pandas.pydata.org/pandas-docs/stable/user_guide/indexing.html#returning-a-view-versus-a-copy\n",
            "  import sys\n",
            "/usr/local/lib/python3.6/dist-packages/ipykernel_launcher.py:7: SettingWithCopyWarning: \n",
            "A value is trying to be set on a copy of a slice from a DataFrame\n",
            "\n",
            "See the caveats in the documentation: https://pandas.pydata.org/pandas-docs/stable/user_guide/indexing.html#returning-a-view-versus-a-copy\n",
            "  import sys\n",
            "/usr/local/lib/python3.6/dist-packages/ipykernel_launcher.py:7: SettingWithCopyWarning: \n",
            "A value is trying to be set on a copy of a slice from a DataFrame\n",
            "\n",
            "See the caveats in the documentation: https://pandas.pydata.org/pandas-docs/stable/user_guide/indexing.html#returning-a-view-versus-a-copy\n",
            "  import sys\n",
            "/usr/local/lib/python3.6/dist-packages/ipykernel_launcher.py:7: SettingWithCopyWarning: \n",
            "A value is trying to be set on a copy of a slice from a DataFrame\n",
            "\n",
            "See the caveats in the documentation: https://pandas.pydata.org/pandas-docs/stable/user_guide/indexing.html#returning-a-view-versus-a-copy\n",
            "  import sys\n",
            "/usr/local/lib/python3.6/dist-packages/ipykernel_launcher.py:7: SettingWithCopyWarning: \n",
            "A value is trying to be set on a copy of a slice from a DataFrame\n",
            "\n",
            "See the caveats in the documentation: https://pandas.pydata.org/pandas-docs/stable/user_guide/indexing.html#returning-a-view-versus-a-copy\n",
            "  import sys\n",
            "/usr/local/lib/python3.6/dist-packages/ipykernel_launcher.py:7: SettingWithCopyWarning: \n",
            "A value is trying to be set on a copy of a slice from a DataFrame\n",
            "\n",
            "See the caveats in the documentation: https://pandas.pydata.org/pandas-docs/stable/user_guide/indexing.html#returning-a-view-versus-a-copy\n",
            "  import sys\n",
            "/usr/local/lib/python3.6/dist-packages/ipykernel_launcher.py:7: SettingWithCopyWarning: \n",
            "A value is trying to be set on a copy of a slice from a DataFrame\n",
            "\n",
            "See the caveats in the documentation: https://pandas.pydata.org/pandas-docs/stable/user_guide/indexing.html#returning-a-view-versus-a-copy\n",
            "  import sys\n",
            "/usr/local/lib/python3.6/dist-packages/ipykernel_launcher.py:7: SettingWithCopyWarning: \n",
            "A value is trying to be set on a copy of a slice from a DataFrame\n",
            "\n",
            "See the caveats in the documentation: https://pandas.pydata.org/pandas-docs/stable/user_guide/indexing.html#returning-a-view-versus-a-copy\n",
            "  import sys\n",
            "/usr/local/lib/python3.6/dist-packages/ipykernel_launcher.py:7: SettingWithCopyWarning: \n",
            "A value is trying to be set on a copy of a slice from a DataFrame\n",
            "\n",
            "See the caveats in the documentation: https://pandas.pydata.org/pandas-docs/stable/user_guide/indexing.html#returning-a-view-versus-a-copy\n",
            "  import sys\n",
            "/usr/local/lib/python3.6/dist-packages/ipykernel_launcher.py:7: SettingWithCopyWarning: \n",
            "A value is trying to be set on a copy of a slice from a DataFrame\n",
            "\n",
            "See the caveats in the documentation: https://pandas.pydata.org/pandas-docs/stable/user_guide/indexing.html#returning-a-view-versus-a-copy\n",
            "  import sys\n",
            "/usr/local/lib/python3.6/dist-packages/ipykernel_launcher.py:7: SettingWithCopyWarning: \n",
            "A value is trying to be set on a copy of a slice from a DataFrame\n",
            "\n",
            "See the caveats in the documentation: https://pandas.pydata.org/pandas-docs/stable/user_guide/indexing.html#returning-a-view-versus-a-copy\n",
            "  import sys\n",
            "/usr/local/lib/python3.6/dist-packages/ipykernel_launcher.py:7: SettingWithCopyWarning: \n",
            "A value is trying to be set on a copy of a slice from a DataFrame\n",
            "\n",
            "See the caveats in the documentation: https://pandas.pydata.org/pandas-docs/stable/user_guide/indexing.html#returning-a-view-versus-a-copy\n",
            "  import sys\n",
            "/usr/local/lib/python3.6/dist-packages/ipykernel_launcher.py:7: SettingWithCopyWarning: \n",
            "A value is trying to be set on a copy of a slice from a DataFrame\n",
            "\n",
            "See the caveats in the documentation: https://pandas.pydata.org/pandas-docs/stable/user_guide/indexing.html#returning-a-view-versus-a-copy\n",
            "  import sys\n",
            "/usr/local/lib/python3.6/dist-packages/ipykernel_launcher.py:7: SettingWithCopyWarning: \n",
            "A value is trying to be set on a copy of a slice from a DataFrame\n",
            "\n",
            "See the caveats in the documentation: https://pandas.pydata.org/pandas-docs/stable/user_guide/indexing.html#returning-a-view-versus-a-copy\n",
            "  import sys\n",
            "/usr/local/lib/python3.6/dist-packages/ipykernel_launcher.py:7: SettingWithCopyWarning: \n",
            "A value is trying to be set on a copy of a slice from a DataFrame\n",
            "\n",
            "See the caveats in the documentation: https://pandas.pydata.org/pandas-docs/stable/user_guide/indexing.html#returning-a-view-versus-a-copy\n",
            "  import sys\n",
            "/usr/local/lib/python3.6/dist-packages/ipykernel_launcher.py:7: SettingWithCopyWarning: \n",
            "A value is trying to be set on a copy of a slice from a DataFrame\n",
            "\n",
            "See the caveats in the documentation: https://pandas.pydata.org/pandas-docs/stable/user_guide/indexing.html#returning-a-view-versus-a-copy\n",
            "  import sys\n",
            "/usr/local/lib/python3.6/dist-packages/ipykernel_launcher.py:7: SettingWithCopyWarning: \n",
            "A value is trying to be set on a copy of a slice from a DataFrame\n",
            "\n",
            "See the caveats in the documentation: https://pandas.pydata.org/pandas-docs/stable/user_guide/indexing.html#returning-a-view-versus-a-copy\n",
            "  import sys\n",
            "/usr/local/lib/python3.6/dist-packages/ipykernel_launcher.py:7: SettingWithCopyWarning: \n",
            "A value is trying to be set on a copy of a slice from a DataFrame\n",
            "\n",
            "See the caveats in the documentation: https://pandas.pydata.org/pandas-docs/stable/user_guide/indexing.html#returning-a-view-versus-a-copy\n",
            "  import sys\n",
            "/usr/local/lib/python3.6/dist-packages/ipykernel_launcher.py:7: SettingWithCopyWarning: \n",
            "A value is trying to be set on a copy of a slice from a DataFrame\n",
            "\n",
            "See the caveats in the documentation: https://pandas.pydata.org/pandas-docs/stable/user_guide/indexing.html#returning-a-view-versus-a-copy\n",
            "  import sys\n",
            "/usr/local/lib/python3.6/dist-packages/ipykernel_launcher.py:7: SettingWithCopyWarning: \n",
            "A value is trying to be set on a copy of a slice from a DataFrame\n",
            "\n",
            "See the caveats in the documentation: https://pandas.pydata.org/pandas-docs/stable/user_guide/indexing.html#returning-a-view-versus-a-copy\n",
            "  import sys\n",
            "/usr/local/lib/python3.6/dist-packages/ipykernel_launcher.py:7: SettingWithCopyWarning: \n",
            "A value is trying to be set on a copy of a slice from a DataFrame\n",
            "\n",
            "See the caveats in the documentation: https://pandas.pydata.org/pandas-docs/stable/user_guide/indexing.html#returning-a-view-versus-a-copy\n",
            "  import sys\n",
            "/usr/local/lib/python3.6/dist-packages/ipykernel_launcher.py:7: SettingWithCopyWarning: \n",
            "A value is trying to be set on a copy of a slice from a DataFrame\n",
            "\n",
            "See the caveats in the documentation: https://pandas.pydata.org/pandas-docs/stable/user_guide/indexing.html#returning-a-view-versus-a-copy\n",
            "  import sys\n",
            "/usr/local/lib/python3.6/dist-packages/ipykernel_launcher.py:7: SettingWithCopyWarning: \n",
            "A value is trying to be set on a copy of a slice from a DataFrame\n",
            "\n",
            "See the caveats in the documentation: https://pandas.pydata.org/pandas-docs/stable/user_guide/indexing.html#returning-a-view-versus-a-copy\n",
            "  import sys\n",
            "/usr/local/lib/python3.6/dist-packages/ipykernel_launcher.py:7: SettingWithCopyWarning: \n",
            "A value is trying to be set on a copy of a slice from a DataFrame\n",
            "\n",
            "See the caveats in the documentation: https://pandas.pydata.org/pandas-docs/stable/user_guide/indexing.html#returning-a-view-versus-a-copy\n",
            "  import sys\n",
            "/usr/local/lib/python3.6/dist-packages/ipykernel_launcher.py:7: SettingWithCopyWarning: \n",
            "A value is trying to be set on a copy of a slice from a DataFrame\n",
            "\n",
            "See the caveats in the documentation: https://pandas.pydata.org/pandas-docs/stable/user_guide/indexing.html#returning-a-view-versus-a-copy\n",
            "  import sys\n",
            "/usr/local/lib/python3.6/dist-packages/ipykernel_launcher.py:7: SettingWithCopyWarning: \n",
            "A value is trying to be set on a copy of a slice from a DataFrame\n",
            "\n",
            "See the caveats in the documentation: https://pandas.pydata.org/pandas-docs/stable/user_guide/indexing.html#returning-a-view-versus-a-copy\n",
            "  import sys\n",
            "/usr/local/lib/python3.6/dist-packages/ipykernel_launcher.py:7: SettingWithCopyWarning: \n",
            "A value is trying to be set on a copy of a slice from a DataFrame\n",
            "\n",
            "See the caveats in the documentation: https://pandas.pydata.org/pandas-docs/stable/user_guide/indexing.html#returning-a-view-versus-a-copy\n",
            "  import sys\n",
            "/usr/local/lib/python3.6/dist-packages/ipykernel_launcher.py:7: SettingWithCopyWarning: \n",
            "A value is trying to be set on a copy of a slice from a DataFrame\n",
            "\n",
            "See the caveats in the documentation: https://pandas.pydata.org/pandas-docs/stable/user_guide/indexing.html#returning-a-view-versus-a-copy\n",
            "  import sys\n",
            "/usr/local/lib/python3.6/dist-packages/ipykernel_launcher.py:7: SettingWithCopyWarning: \n",
            "A value is trying to be set on a copy of a slice from a DataFrame\n",
            "\n",
            "See the caveats in the documentation: https://pandas.pydata.org/pandas-docs/stable/user_guide/indexing.html#returning-a-view-versus-a-copy\n",
            "  import sys\n",
            "/usr/local/lib/python3.6/dist-packages/ipykernel_launcher.py:7: SettingWithCopyWarning: \n",
            "A value is trying to be set on a copy of a slice from a DataFrame\n",
            "\n",
            "See the caveats in the documentation: https://pandas.pydata.org/pandas-docs/stable/user_guide/indexing.html#returning-a-view-versus-a-copy\n",
            "  import sys\n",
            "/usr/local/lib/python3.6/dist-packages/ipykernel_launcher.py:7: SettingWithCopyWarning: \n",
            "A value is trying to be set on a copy of a slice from a DataFrame\n",
            "\n",
            "See the caveats in the documentation: https://pandas.pydata.org/pandas-docs/stable/user_guide/indexing.html#returning-a-view-versus-a-copy\n",
            "  import sys\n",
            "/usr/local/lib/python3.6/dist-packages/ipykernel_launcher.py:7: SettingWithCopyWarning: \n",
            "A value is trying to be set on a copy of a slice from a DataFrame\n",
            "\n",
            "See the caveats in the documentation: https://pandas.pydata.org/pandas-docs/stable/user_guide/indexing.html#returning-a-view-versus-a-copy\n",
            "  import sys\n",
            "/usr/local/lib/python3.6/dist-packages/ipykernel_launcher.py:7: SettingWithCopyWarning: \n",
            "A value is trying to be set on a copy of a slice from a DataFrame\n",
            "\n",
            "See the caveats in the documentation: https://pandas.pydata.org/pandas-docs/stable/user_guide/indexing.html#returning-a-view-versus-a-copy\n",
            "  import sys\n",
            "/usr/local/lib/python3.6/dist-packages/ipykernel_launcher.py:7: SettingWithCopyWarning: \n",
            "A value is trying to be set on a copy of a slice from a DataFrame\n",
            "\n",
            "See the caveats in the documentation: https://pandas.pydata.org/pandas-docs/stable/user_guide/indexing.html#returning-a-view-versus-a-copy\n",
            "  import sys\n",
            "/usr/local/lib/python3.6/dist-packages/ipykernel_launcher.py:7: SettingWithCopyWarning: \n",
            "A value is trying to be set on a copy of a slice from a DataFrame\n",
            "\n",
            "See the caveats in the documentation: https://pandas.pydata.org/pandas-docs/stable/user_guide/indexing.html#returning-a-view-versus-a-copy\n",
            "  import sys\n",
            "/usr/local/lib/python3.6/dist-packages/ipykernel_launcher.py:7: SettingWithCopyWarning: \n",
            "A value is trying to be set on a copy of a slice from a DataFrame\n",
            "\n",
            "See the caveats in the documentation: https://pandas.pydata.org/pandas-docs/stable/user_guide/indexing.html#returning-a-view-versus-a-copy\n",
            "  import sys\n",
            "/usr/local/lib/python3.6/dist-packages/ipykernel_launcher.py:7: SettingWithCopyWarning: \n",
            "A value is trying to be set on a copy of a slice from a DataFrame\n",
            "\n",
            "See the caveats in the documentation: https://pandas.pydata.org/pandas-docs/stable/user_guide/indexing.html#returning-a-view-versus-a-copy\n",
            "  import sys\n",
            "/usr/local/lib/python3.6/dist-packages/ipykernel_launcher.py:7: SettingWithCopyWarning: \n",
            "A value is trying to be set on a copy of a slice from a DataFrame\n",
            "\n",
            "See the caveats in the documentation: https://pandas.pydata.org/pandas-docs/stable/user_guide/indexing.html#returning-a-view-versus-a-copy\n",
            "  import sys\n",
            "/usr/local/lib/python3.6/dist-packages/ipykernel_launcher.py:7: SettingWithCopyWarning: \n",
            "A value is trying to be set on a copy of a slice from a DataFrame\n",
            "\n",
            "See the caveats in the documentation: https://pandas.pydata.org/pandas-docs/stable/user_guide/indexing.html#returning-a-view-versus-a-copy\n",
            "  import sys\n",
            "/usr/local/lib/python3.6/dist-packages/ipykernel_launcher.py:7: SettingWithCopyWarning: \n",
            "A value is trying to be set on a copy of a slice from a DataFrame\n",
            "\n",
            "See the caveats in the documentation: https://pandas.pydata.org/pandas-docs/stable/user_guide/indexing.html#returning-a-view-versus-a-copy\n",
            "  import sys\n",
            "/usr/local/lib/python3.6/dist-packages/ipykernel_launcher.py:7: SettingWithCopyWarning: \n",
            "A value is trying to be set on a copy of a slice from a DataFrame\n",
            "\n",
            "See the caveats in the documentation: https://pandas.pydata.org/pandas-docs/stable/user_guide/indexing.html#returning-a-view-versus-a-copy\n",
            "  import sys\n",
            "/usr/local/lib/python3.6/dist-packages/ipykernel_launcher.py:7: SettingWithCopyWarning: \n",
            "A value is trying to be set on a copy of a slice from a DataFrame\n",
            "\n",
            "See the caveats in the documentation: https://pandas.pydata.org/pandas-docs/stable/user_guide/indexing.html#returning-a-view-versus-a-copy\n",
            "  import sys\n",
            "/usr/local/lib/python3.6/dist-packages/ipykernel_launcher.py:7: SettingWithCopyWarning: \n",
            "A value is trying to be set on a copy of a slice from a DataFrame\n",
            "\n",
            "See the caveats in the documentation: https://pandas.pydata.org/pandas-docs/stable/user_guide/indexing.html#returning-a-view-versus-a-copy\n",
            "  import sys\n",
            "/usr/local/lib/python3.6/dist-packages/ipykernel_launcher.py:7: SettingWithCopyWarning: \n",
            "A value is trying to be set on a copy of a slice from a DataFrame\n",
            "\n",
            "See the caveats in the documentation: https://pandas.pydata.org/pandas-docs/stable/user_guide/indexing.html#returning-a-view-versus-a-copy\n",
            "  import sys\n",
            "/usr/local/lib/python3.6/dist-packages/ipykernel_launcher.py:7: SettingWithCopyWarning: \n",
            "A value is trying to be set on a copy of a slice from a DataFrame\n",
            "\n",
            "See the caveats in the documentation: https://pandas.pydata.org/pandas-docs/stable/user_guide/indexing.html#returning-a-view-versus-a-copy\n",
            "  import sys\n",
            "/usr/local/lib/python3.6/dist-packages/ipykernel_launcher.py:7: SettingWithCopyWarning: \n",
            "A value is trying to be set on a copy of a slice from a DataFrame\n",
            "\n",
            "See the caveats in the documentation: https://pandas.pydata.org/pandas-docs/stable/user_guide/indexing.html#returning-a-view-versus-a-copy\n",
            "  import sys\n",
            "/usr/local/lib/python3.6/dist-packages/ipykernel_launcher.py:7: SettingWithCopyWarning: \n",
            "A value is trying to be set on a copy of a slice from a DataFrame\n",
            "\n",
            "See the caveats in the documentation: https://pandas.pydata.org/pandas-docs/stable/user_guide/indexing.html#returning-a-view-versus-a-copy\n",
            "  import sys\n",
            "/usr/local/lib/python3.6/dist-packages/ipykernel_launcher.py:7: SettingWithCopyWarning: \n",
            "A value is trying to be set on a copy of a slice from a DataFrame\n",
            "\n",
            "See the caveats in the documentation: https://pandas.pydata.org/pandas-docs/stable/user_guide/indexing.html#returning-a-view-versus-a-copy\n",
            "  import sys\n",
            "/usr/local/lib/python3.6/dist-packages/ipykernel_launcher.py:7: SettingWithCopyWarning: \n",
            "A value is trying to be set on a copy of a slice from a DataFrame\n",
            "\n",
            "See the caveats in the documentation: https://pandas.pydata.org/pandas-docs/stable/user_guide/indexing.html#returning-a-view-versus-a-copy\n",
            "  import sys\n",
            "/usr/local/lib/python3.6/dist-packages/ipykernel_launcher.py:7: SettingWithCopyWarning: \n",
            "A value is trying to be set on a copy of a slice from a DataFrame\n",
            "\n",
            "See the caveats in the documentation: https://pandas.pydata.org/pandas-docs/stable/user_guide/indexing.html#returning-a-view-versus-a-copy\n",
            "  import sys\n",
            "/usr/local/lib/python3.6/dist-packages/ipykernel_launcher.py:7: SettingWithCopyWarning: \n",
            "A value is trying to be set on a copy of a slice from a DataFrame\n",
            "\n",
            "See the caveats in the documentation: https://pandas.pydata.org/pandas-docs/stable/user_guide/indexing.html#returning-a-view-versus-a-copy\n",
            "  import sys\n",
            "/usr/local/lib/python3.6/dist-packages/ipykernel_launcher.py:7: SettingWithCopyWarning: \n",
            "A value is trying to be set on a copy of a slice from a DataFrame\n",
            "\n",
            "See the caveats in the documentation: https://pandas.pydata.org/pandas-docs/stable/user_guide/indexing.html#returning-a-view-versus-a-copy\n",
            "  import sys\n",
            "/usr/local/lib/python3.6/dist-packages/ipykernel_launcher.py:7: SettingWithCopyWarning: \n",
            "A value is trying to be set on a copy of a slice from a DataFrame\n",
            "\n",
            "See the caveats in the documentation: https://pandas.pydata.org/pandas-docs/stable/user_guide/indexing.html#returning-a-view-versus-a-copy\n",
            "  import sys\n",
            "/usr/local/lib/python3.6/dist-packages/ipykernel_launcher.py:7: SettingWithCopyWarning: \n",
            "A value is trying to be set on a copy of a slice from a DataFrame\n",
            "\n",
            "See the caveats in the documentation: https://pandas.pydata.org/pandas-docs/stable/user_guide/indexing.html#returning-a-view-versus-a-copy\n",
            "  import sys\n"
          ],
          "name": "stderr"
        }
      ]
    },
    {
      "cell_type": "code",
      "metadata": {
        "id": "IvgjD_pcH2MC",
        "colab_type": "code",
        "colab": {
          "base_uri": "https://localhost:8080/",
          "height": 344
        },
        "outputId": "308e78f8-5448-4e2a-b03e-a4e872954af4"
      },
      "source": [
        "train.head(5)"
      ],
      "execution_count": 241,
      "outputs": [
        {
          "output_type": "execute_result",
          "data": {
            "text/html": [
              "<div>\n",
              "<style scoped>\n",
              "    .dataframe tbody tr th:only-of-type {\n",
              "        vertical-align: middle;\n",
              "    }\n",
              "\n",
              "    .dataframe tbody tr th {\n",
              "        vertical-align: top;\n",
              "    }\n",
              "\n",
              "    .dataframe thead th {\n",
              "        text-align: right;\n",
              "    }\n",
              "</style>\n",
              "<table border=\"1\" class=\"dataframe\">\n",
              "  <thead>\n",
              "    <tr style=\"text-align: right;\">\n",
              "      <th></th>\n",
              "      <th>ETA</th>\n",
              "      <th>RTA</th>\n",
              "      <th>OrderedDate</th>\n",
              "      <th>latitude</th>\n",
              "      <th>del_latitude</th>\n",
              "      <th>longitude</th>\n",
              "      <th>del_longitude</th>\n",
              "      <th>EDA</th>\n",
              "      <th>center_latitude</th>\n",
              "      <th>center_longitude</th>\n",
              "      <th>route</th>\n",
              "      <th>route_steps</th>\n",
              "      <th>haversine_dist</th>\n",
              "      <th>manhattan_dist</th>\n",
              "      <th>angle</th>\n",
              "      <th>ready_time</th>\n",
              "      <th>collcted_time</th>\n",
              "      <th>ready_collected_dif</th>\n",
              "      <th>OrderedDate_local</th>\n",
              "      <th>hour</th>\n",
              "      <th>day_of_week</th>\n",
              "      <th>hour_of_week</th>\n",
              "      <th>day_of_month</th>\n",
              "      <th>holiday</th>\n",
              "      <th>OrderedDate_date</th>\n",
              "      <th>pickup_cluster</th>\n",
              "      <th>dropoff_cluster</th>\n",
              "      <th>pickup_pca0</th>\n",
              "      <th>pickup_pca1</th>\n",
              "      <th>dropoff_pca0</th>\n",
              "      <th>dropoff_pca1</th>\n",
              "      <th>location_1078</th>\n",
              "      <th>location_22390</th>\n",
              "      <th>location_22430</th>\n",
              "      <th>location_22438</th>\n",
              "    </tr>\n",
              "    <tr>\n",
              "      <th>Id</th>\n",
              "      <th></th>\n",
              "      <th></th>\n",
              "      <th></th>\n",
              "      <th></th>\n",
              "      <th></th>\n",
              "      <th></th>\n",
              "      <th></th>\n",
              "      <th></th>\n",
              "      <th></th>\n",
              "      <th></th>\n",
              "      <th></th>\n",
              "      <th></th>\n",
              "      <th></th>\n",
              "      <th></th>\n",
              "      <th></th>\n",
              "      <th></th>\n",
              "      <th></th>\n",
              "      <th></th>\n",
              "      <th></th>\n",
              "      <th></th>\n",
              "      <th></th>\n",
              "      <th></th>\n",
              "      <th></th>\n",
              "      <th></th>\n",
              "      <th></th>\n",
              "      <th></th>\n",
              "      <th></th>\n",
              "      <th></th>\n",
              "      <th></th>\n",
              "      <th></th>\n",
              "      <th></th>\n",
              "      <th></th>\n",
              "      <th></th>\n",
              "      <th></th>\n",
              "      <th></th>\n",
              "    </tr>\n",
              "  </thead>\n",
              "  <tbody>\n",
              "    <tr>\n",
              "      <th>0</th>\n",
              "      <td>226.0</td>\n",
              "      <td>188.0</td>\n",
              "      <td>2020-02-12 19:12:06+03:00</td>\n",
              "      <td>0.894129</td>\n",
              "      <td>0.872610</td>\n",
              "      <td>-0.198997</td>\n",
              "      <td>-0.311704</td>\n",
              "      <td>1.0</td>\n",
              "      <td>55.794388</td>\n",
              "      <td>49.111531</td>\n",
              "      <td>gnvsIaq{jHChA??uC???OPG^F^NRzKBd@AN[r@???`@`@`...</td>\n",
              "      <td>29.0</td>\n",
              "      <td>0.475936</td>\n",
              "      <td>0.522207</td>\n",
              "      <td>-95.879608</td>\n",
              "      <td>2.450000</td>\n",
              "      <td>3.000000</td>\n",
              "      <td>0.550000</td>\n",
              "      <td>2020-02-12 19:12:06+03:00</td>\n",
              "      <td>19</td>\n",
              "      <td>2</td>\n",
              "      <td>67</td>\n",
              "      <td>12</td>\n",
              "      <td>0</td>\n",
              "      <td>2020-02-12</td>\n",
              "      <td>83</td>\n",
              "      <td>83</td>\n",
              "      <td>0.005226</td>\n",
              "      <td>-0.718199</td>\n",
              "      <td>-0.129636</td>\n",
              "      <td>-0.025526</td>\n",
              "      <td>1</td>\n",
              "      <td>0</td>\n",
              "      <td>0</td>\n",
              "      <td>0</td>\n",
              "    </tr>\n",
              "    <tr>\n",
              "      <th>1</th>\n",
              "      <td>718.0</td>\n",
              "      <td>725.0</td>\n",
              "      <td>2020-02-12 19:12:22+03:00</td>\n",
              "      <td>-0.000943</td>\n",
              "      <td>0.735455</td>\n",
              "      <td>-0.255365</td>\n",
              "      <td>-0.521256</td>\n",
              "      <td>5.0</td>\n",
              "      <td>55.794388</td>\n",
              "      <td>49.111531</td>\n",
              "      <td>sqpsI}~zjHyAr]e@lMk@fLaBlb@i@rLKhBCdAUxEGlCg@f...</td>\n",
              "      <td>78.0</td>\n",
              "      <td>2.999397</td>\n",
              "      <td>3.832401</td>\n",
              "      <td>-19.603279</td>\n",
              "      <td>6.683333</td>\n",
              "      <td>7.333333</td>\n",
              "      <td>0.650000</td>\n",
              "      <td>2020-02-12 19:12:22+03:00</td>\n",
              "      <td>19</td>\n",
              "      <td>2</td>\n",
              "      <td>67</td>\n",
              "      <td>12</td>\n",
              "      <td>0</td>\n",
              "      <td>2020-02-12</td>\n",
              "      <td>2</td>\n",
              "      <td>21</td>\n",
              "      <td>-0.285903</td>\n",
              "      <td>-0.104252</td>\n",
              "      <td>-0.395904</td>\n",
              "      <td>-0.025087</td>\n",
              "      <td>1</td>\n",
              "      <td>0</td>\n",
              "      <td>0</td>\n",
              "      <td>0</td>\n",
              "    </tr>\n",
              "    <tr>\n",
              "      <th>2</th>\n",
              "      <td>612.0</td>\n",
              "      <td>764.0</td>\n",
              "      <td>2020-02-12 19:12:44+03:00</td>\n",
              "      <td>-0.131512</td>\n",
              "      <td>0.707553</td>\n",
              "      <td>1.487592</td>\n",
              "      <td>0.586587</td>\n",
              "      <td>5.0</td>\n",
              "      <td>55.794388</td>\n",
              "      <td>49.111531</td>\n",
              "      <td>auosI}mmkH?LHd@KhC??o@w@[g@m@iAUk@??{G|OiB`Ek@...</td>\n",
              "      <td>79.0</td>\n",
              "      <td>4.458880</td>\n",
              "      <td>6.305716</td>\n",
              "      <td>-43.843021</td>\n",
              "      <td>2.616667</td>\n",
              "      <td>2.683333</td>\n",
              "      <td>0.066667</td>\n",
              "      <td>2020-02-12 19:12:44+03:00</td>\n",
              "      <td>19</td>\n",
              "      <td>2</td>\n",
              "      <td>67</td>\n",
              "      <td>12</td>\n",
              "      <td>0</td>\n",
              "      <td>2020-02-12</td>\n",
              "      <td>8</td>\n",
              "      <td>39</td>\n",
              "      <td>1.630580</td>\n",
              "      <td>0.704824</td>\n",
              "      <td>0.825433</td>\n",
              "      <td>-0.003309</td>\n",
              "      <td>1</td>\n",
              "      <td>0</td>\n",
              "      <td>0</td>\n",
              "      <td>0</td>\n",
              "    </tr>\n",
              "    <tr>\n",
              "      <th>3</th>\n",
              "      <td>1560.0</td>\n",
              "      <td>1412.0</td>\n",
              "      <td>2020-02-12 19:12:44+03:00</td>\n",
              "      <td>-1.221150</td>\n",
              "      <td>0.846165</td>\n",
              "      <td>0.795723</td>\n",
              "      <td>-0.912909</td>\n",
              "      <td>13.0</td>\n",
              "      <td>55.794388</td>\n",
              "      <td>49.111531</td>\n",
              "      <td>{lhsIiffkHmKN_C?mIPwMJ??Si@gA{B??Wq@MRCJTp@hAd...</td>\n",
              "      <td>164.0</td>\n",
              "      <td>9.853176</td>\n",
              "      <td>13.803791</td>\n",
              "      <td>-36.946603</td>\n",
              "      <td>6.266667</td>\n",
              "      <td>6.416667</td>\n",
              "      <td>0.150000</td>\n",
              "      <td>2020-02-12 19:12:44+03:00</td>\n",
              "      <td>19</td>\n",
              "      <td>2</td>\n",
              "      <td>67</td>\n",
              "      <td>12</td>\n",
              "      <td>0</td>\n",
              "      <td>2020-02-12</td>\n",
              "      <td>25</td>\n",
              "      <td>54</td>\n",
              "      <td>0.578971</td>\n",
              "      <td>1.196151</td>\n",
              "      <td>-0.802724</td>\n",
              "      <td>-0.036014</td>\n",
              "      <td>1</td>\n",
              "      <td>0</td>\n",
              "      <td>0</td>\n",
              "      <td>0</td>\n",
              "    </tr>\n",
              "    <tr>\n",
              "      <th>4</th>\n",
              "      <td>1528.0</td>\n",
              "      <td>893.0</td>\n",
              "      <td>2020-02-12 19:12:45+03:00</td>\n",
              "      <td>0.786832</td>\n",
              "      <td>-0.267775</td>\n",
              "      <td>-1.404638</td>\n",
              "      <td>-0.012411</td>\n",
              "      <td>9.0</td>\n",
              "      <td>55.794388</td>\n",
              "      <td>49.111531</td>\n",
              "      <td>yxusI{xnjHgAfG??}IuHkAqA??pIoe@VsA??dAkG`BuH??...</td>\n",
              "      <td>130.0</td>\n",
              "      <td>6.107029</td>\n",
              "      <td>8.606808</td>\n",
              "      <td>130.378310</td>\n",
              "      <td>3.783333</td>\n",
              "      <td>4.683333</td>\n",
              "      <td>0.900000</td>\n",
              "      <td>2020-02-12 19:12:45+03:00</td>\n",
              "      <td>19</td>\n",
              "      <td>2</td>\n",
              "      <td>67</td>\n",
              "      <td>12</td>\n",
              "      <td>0</td>\n",
              "      <td>2020-02-12</td>\n",
              "      <td>11</td>\n",
              "      <td>49</td>\n",
              "      <td>-1.370801</td>\n",
              "      <td>-1.137194</td>\n",
              "      <td>-0.080026</td>\n",
              "      <td>0.016613</td>\n",
              "      <td>1</td>\n",
              "      <td>0</td>\n",
              "      <td>0</td>\n",
              "      <td>0</td>\n",
              "    </tr>\n",
              "  </tbody>\n",
              "</table>\n",
              "</div>"
            ],
            "text/plain": [
              "       ETA     RTA  ... location_22430  location_22438\n",
              "Id                  ...                               \n",
              "0    226.0   188.0  ...              0               0\n",
              "1    718.0   725.0  ...              0               0\n",
              "2    612.0   764.0  ...              0               0\n",
              "3   1560.0  1412.0  ...              0               0\n",
              "4   1528.0   893.0  ...              0               0\n",
              "\n",
              "[5 rows x 35 columns]"
            ]
          },
          "metadata": {
            "tags": []
          },
          "execution_count": 241
        }
      ]
    },
    {
      "cell_type": "code",
      "metadata": {
        "id": "33iKzyzrWMl0",
        "colab_type": "code",
        "colab": {}
      },
      "source": [
        "# third_version\n",
        "train.drop(columns=drop_cols).to_csv(path + 'train_clean.csv')\n",
        "valid.drop(columns=drop_cols).to_csv(path + 'valid_clean.csv')\n",
        "test.drop(columns=drop_cols).to_csv(path + 'test_clean.csv')"
      ],
      "execution_count": 0,
      "outputs": []
    },
    {
      "cell_type": "markdown",
      "metadata": {
        "id": "L88X_55ZUStU",
        "colab_type": "text"
      },
      "source": [
        "# Model\n"
      ]
    },
    {
      "cell_type": "markdown",
      "metadata": {
        "id": "WedDV4jNUWWy",
        "colab_type": "text"
      },
      "source": [
        "В конечном счете была выбрана сверточная нейронная сеть со следующей архитектурой:\n",
        "\n",
        "Так же были протестированы различные градиентные бустинги:\n",
        "  - [Catboost](https://colab.research.google.com/drive/13DulU3M8QTLnHru92CGxT5bMe5gj4-NO#scrollTo=WedDV4jNUWWy).\n",
        "  - LightGBM\n",
        "  - XGBoost"
      ]
    },
    {
      "cell_type": "code",
      "metadata": {
        "id": "TZSrd4ZwUVr4",
        "colab_type": "code",
        "colab": {}
      },
      "source": [
        "# Neuronetwork fitting"
      ],
      "execution_count": 0,
      "outputs": []
    },
    {
      "cell_type": "code",
      "metadata": {
        "id": "xQTMzds7VLd0",
        "colab_type": "code",
        "colab": {}
      },
      "source": [
        ""
      ],
      "execution_count": 0,
      "outputs": []
    }
  ]
}